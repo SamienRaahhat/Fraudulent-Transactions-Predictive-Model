{
 "cells": [
  {
   "cell_type": "markdown",
   "id": "2f5c08ae",
   "metadata": {},
   "source": [
    "# Empowering Financial Security: \n",
    "\n",
    "### Detecting Fraudulent Transactions using Advanced Machine Learning Techniques and Predictive Analytics"
   ]
  },
  {
   "cell_type": "markdown",
   "id": "109d31ee",
   "metadata": {},
   "source": [
    "**accountAgeDays:** The number of days the account has been active.\n",
    "\n",
    "\n",
    "**numItems:** The number of items associated with the account.\n",
    "\n",
    "\n",
    "**localTime:** Some measure of time, possibly in hours or a similar unit.\n",
    "\n",
    "\n",
    "**paymentMethod:** The method used for payment (e.g., PayPal, store credit, credit card).\n",
    "\n",
    "\n",
    "**paymentMethodAgeDays:** The number of days since the payment method was associated with the account.(It indicates how long ago the current payment method (e.g.,PayPal, credit card) was linked to the account.)\n",
    "\n",
    "\n",
    "**isWeekend:** A binary indicator of whether the transaction occurred on a weekend (1 for yes, 0 for no).\n",
    "\n",
    "\n",
    "**Category:** The category of the transaction (e.g., electronics, shopping, food).\n",
    "\n",
    "\n",
    "**Label(Target column)** A binary label (0 for legitimate, 1 for potentially fraudulent)"
   ]
  },
  {
   "cell_type": "markdown",
   "id": "9920b153",
   "metadata": {},
   "source": [
    "# Data Loading"
   ]
  },
  {
   "cell_type": "code",
   "execution_count": 1,
   "id": "b02ad496",
   "metadata": {},
   "outputs": [],
   "source": [
    "import pandas as pd\n",
    "import numpy as np\n",
    "import matplotlib.pyplot as plt\n",
    "import seaborn as sns\n",
    "import warnings;\n",
    "warnings.filterwarnings('ignore');\n"
   ]
  },
  {
   "cell_type": "code",
   "execution_count": 2,
   "id": "87cb7a26",
   "metadata": {},
   "outputs": [
    {
     "data": {
      "text/html": [
       "<div>\n",
       "<style scoped>\n",
       "    .dataframe tbody tr th:only-of-type {\n",
       "        vertical-align: middle;\n",
       "    }\n",
       "\n",
       "    .dataframe tbody tr th {\n",
       "        vertical-align: top;\n",
       "    }\n",
       "\n",
       "    .dataframe thead th {\n",
       "        text-align: right;\n",
       "    }\n",
       "</style>\n",
       "<table border=\"1\" class=\"dataframe\">\n",
       "  <thead>\n",
       "    <tr style=\"text-align: right;\">\n",
       "      <th></th>\n",
       "      <th>accountAgeDays</th>\n",
       "      <th>numItems</th>\n",
       "      <th>localTime</th>\n",
       "      <th>paymentMethod</th>\n",
       "      <th>paymentMethodAgeDays</th>\n",
       "      <th>Category</th>\n",
       "      <th>isWeekend</th>\n",
       "      <th>label</th>\n",
       "    </tr>\n",
       "  </thead>\n",
       "  <tbody>\n",
       "    <tr>\n",
       "      <th>0</th>\n",
       "      <td>29</td>\n",
       "      <td>1</td>\n",
       "      <td>4.745402</td>\n",
       "      <td>paypal</td>\n",
       "      <td>28.204861</td>\n",
       "      <td>shopping</td>\n",
       "      <td>0.0</td>\n",
       "      <td>0</td>\n",
       "    </tr>\n",
       "    <tr>\n",
       "      <th>1</th>\n",
       "      <td>725</td>\n",
       "      <td>1</td>\n",
       "      <td>4.742303</td>\n",
       "      <td>storecredit</td>\n",
       "      <td>0.000000</td>\n",
       "      <td>electronics</td>\n",
       "      <td>0.0</td>\n",
       "      <td>0</td>\n",
       "    </tr>\n",
       "    <tr>\n",
       "      <th>2</th>\n",
       "      <td>845</td>\n",
       "      <td>1</td>\n",
       "      <td>4.921318</td>\n",
       "      <td>creditcard</td>\n",
       "      <td>0.000000</td>\n",
       "      <td>food</td>\n",
       "      <td>1.0</td>\n",
       "      <td>0</td>\n",
       "    </tr>\n",
       "    <tr>\n",
       "      <th>3</th>\n",
       "      <td>503</td>\n",
       "      <td>1</td>\n",
       "      <td>4.886641</td>\n",
       "      <td>creditcard</td>\n",
       "      <td>0.000000</td>\n",
       "      <td>electronics</td>\n",
       "      <td>1.0</td>\n",
       "      <td>0</td>\n",
       "    </tr>\n",
       "    <tr>\n",
       "      <th>4</th>\n",
       "      <td>2000</td>\n",
       "      <td>1</td>\n",
       "      <td>5.040929</td>\n",
       "      <td>creditcard</td>\n",
       "      <td>0.000000</td>\n",
       "      <td>shopping</td>\n",
       "      <td>0.0</td>\n",
       "      <td>0</td>\n",
       "    </tr>\n",
       "  </tbody>\n",
       "</table>\n",
       "</div>"
      ],
      "text/plain": [
       "   accountAgeDays  numItems  localTime paymentMethod  paymentMethodAgeDays  \\\n",
       "0              29         1   4.745402        paypal             28.204861   \n",
       "1             725         1   4.742303   storecredit              0.000000   \n",
       "2             845         1   4.921318    creditcard              0.000000   \n",
       "3             503         1   4.886641    creditcard              0.000000   \n",
       "4            2000         1   5.040929    creditcard              0.000000   \n",
       "\n",
       "      Category  isWeekend  label  \n",
       "0     shopping        0.0      0  \n",
       "1  electronics        0.0      0  \n",
       "2         food        1.0      0  \n",
       "3  electronics        1.0      0  \n",
       "4     shopping        0.0      0  "
      ]
     },
     "execution_count": 2,
     "metadata": {},
     "output_type": "execute_result"
    }
   ],
   "source": [
    "df = pd.read_csv(r\"D:\\Downloads\\payment_fraud.csv\")\n",
    "df.head()"
   ]
  },
  {
   "cell_type": "markdown",
   "id": "747f700e",
   "metadata": {},
   "source": [
    "# Exploratory Data Analysis"
   ]
  },
  {
   "cell_type": "code",
   "execution_count": 3,
   "id": "85f0a643",
   "metadata": {},
   "outputs": [
    {
     "name": "stdout",
     "output_type": "stream",
     "text": [
      "<class 'pandas.core.frame.DataFrame'>\n",
      "RangeIndex: 39221 entries, 0 to 39220\n",
      "Data columns (total 8 columns):\n",
      " #   Column                Non-Null Count  Dtype  \n",
      "---  ------                --------------  -----  \n",
      " 0   accountAgeDays        39221 non-null  int64  \n",
      " 1   numItems              39221 non-null  int64  \n",
      " 2   localTime             39221 non-null  float64\n",
      " 3   paymentMethod         39221 non-null  object \n",
      " 4   paymentMethodAgeDays  39221 non-null  float64\n",
      " 5   Category              39126 non-null  object \n",
      " 6   isWeekend             38661 non-null  float64\n",
      " 7   label                 39221 non-null  int64  \n",
      "dtypes: float64(3), int64(3), object(2)\n",
      "memory usage: 2.4+ MB\n"
     ]
    }
   ],
   "source": [
    "df.info()"
   ]
  },
  {
   "cell_type": "code",
   "execution_count": 4,
   "id": "53ed2197",
   "metadata": {},
   "outputs": [
    {
     "data": {
      "text/plain": [
       "accountAgeDays            0\n",
       "numItems                  0\n",
       "localTime                 0\n",
       "paymentMethod             0\n",
       "paymentMethodAgeDays      0\n",
       "Category                 95\n",
       "isWeekend               560\n",
       "label                     0\n",
       "dtype: int64"
      ]
     },
     "execution_count": 4,
     "metadata": {},
     "output_type": "execute_result"
    }
   ],
   "source": [
    "df.isna().sum()"
   ]
  },
  {
   "cell_type": "code",
   "execution_count": 5,
   "id": "d5d856ab",
   "metadata": {},
   "outputs": [
    {
     "data": {
      "text/plain": [
       "0"
      ]
     },
     "execution_count": 5,
     "metadata": {},
     "output_type": "execute_result"
    }
   ],
   "source": [
    "df.accountAgeDays.isna().sum()"
   ]
  },
  {
   "cell_type": "code",
   "execution_count": 6,
   "id": "0762ce94",
   "metadata": {},
   "outputs": [
    {
     "data": {
      "text/plain": [
       "1999"
      ]
     },
     "execution_count": 6,
     "metadata": {},
     "output_type": "execute_result"
    }
   ],
   "source": [
    "df.accountAgeDays.nunique()"
   ]
  },
  {
   "cell_type": "code",
   "execution_count": 7,
   "id": "6e0c259c",
   "metadata": {},
   "outputs": [
    {
     "data": {
      "text/plain": [
       "1     37398\n",
       "2      1348\n",
       "5       168\n",
       "3       164\n",
       "10       71\n",
       "4        42\n",
       "6        15\n",
       "8         5\n",
       "7         5\n",
       "12        1\n",
       "15        1\n",
       "29        1\n",
       "9         1\n",
       "11        1\n",
       "Name: numItems, dtype: int64"
      ]
     },
     "execution_count": 7,
     "metadata": {},
     "output_type": "execute_result"
    }
   ],
   "source": [
    "df.numItems.value_counts()"
   ]
  },
  {
   "cell_type": "code",
   "execution_count": 8,
   "id": "2c3a1f52",
   "metadata": {},
   "outputs": [
    {
     "data": {
      "text/plain": [
       "14"
      ]
     },
     "execution_count": 8,
     "metadata": {},
     "output_type": "execute_result"
    }
   ],
   "source": [
    "df.numItems.nunique()"
   ]
  },
  {
   "cell_type": "code",
   "execution_count": 9,
   "id": "7ade7a1a",
   "metadata": {},
   "outputs": [
    {
     "data": {
      "text/plain": [
       "array([ 1,  2,  3,  4,  5, 10,  6, 12,  8, 15, 29,  9,  7, 11],\n",
       "      dtype=int64)"
      ]
     },
     "execution_count": 9,
     "metadata": {},
     "output_type": "execute_result"
    }
   ],
   "source": [
    "df.numItems.unique()"
   ]
  },
  {
   "cell_type": "code",
   "execution_count": 10,
   "id": "429862a5",
   "metadata": {},
   "outputs": [
    {
     "data": {
      "text/plain": [
       "4.921318    2444\n",
       "4.921349    2353\n",
       "4.876771    2333\n",
       "4.886641    2313\n",
       "5.034622    2310\n",
       "4.524580    2302\n",
       "4.748314    2284\n",
       "5.017904    2276\n",
       "4.745402    2264\n",
       "4.836982    2253\n",
       "4.962055    2244\n",
       "4.965339    2155\n",
       "4.895263    2081\n",
       "5.040929    2050\n",
       "4.742303    1696\n",
       "4.505662    1531\n",
       "4.057414    1088\n",
       "4.461622    1083\n",
       "3.954522     646\n",
       "3.575983     443\n",
       "3.483951     365\n",
       "3.066058     264\n",
       "2.948940     228\n",
       "2.596228     213\n",
       "0.421214       2\n",
       "Name: localTime, dtype: int64"
      ]
     },
     "execution_count": 10,
     "metadata": {},
     "output_type": "execute_result"
    }
   ],
   "source": [
    "df.localTime.value_counts()"
   ]
  },
  {
   "cell_type": "code",
   "execution_count": 11,
   "id": "6feb4bcf",
   "metadata": {},
   "outputs": [
    {
     "data": {
      "text/plain": [
       "25"
      ]
     },
     "execution_count": 11,
     "metadata": {},
     "output_type": "execute_result"
    }
   ],
   "source": [
    "df.localTime.nunique()"
   ]
  },
  {
   "cell_type": "code",
   "execution_count": 12,
   "id": "6db58ab5",
   "metadata": {},
   "outputs": [
    {
     "data": {
      "text/plain": [
       "array([4.745402 , 4.742303 , 4.921318 , 4.886641 , 5.040929 , 4.962055 ,\n",
       "       4.921349 , 4.876771 , 4.748314 , 4.461622 , 4.505662 , 4.836982 ,\n",
       "       4.895263 , 5.034622 , 4.057414 , 3.483951 , 2.596228 , 5.017904 ,\n",
       "       4.965339 , 4.52458  , 2.94894  , 3.066058 , 3.575983 , 3.954522 ,\n",
       "       0.4212135])"
      ]
     },
     "execution_count": 12,
     "metadata": {},
     "output_type": "execute_result"
    }
   ],
   "source": [
    "df.localTime.unique()"
   ]
  },
  {
   "cell_type": "code",
   "execution_count": 13,
   "id": "5e797caf",
   "metadata": {},
   "outputs": [
    {
     "data": {
      "text/plain": [
       "0"
      ]
     },
     "execution_count": 13,
     "metadata": {},
     "output_type": "execute_result"
    }
   ],
   "source": [
    "df.localTime.isna().sum()"
   ]
  },
  {
   "cell_type": "code",
   "execution_count": 14,
   "id": "c465c507",
   "metadata": {},
   "outputs": [
    {
     "data": {
      "text/plain": [
       "creditcard     28004\n",
       "paypal          9303\n",
       "storecredit     1914\n",
       "Name: paymentMethod, dtype: int64"
      ]
     },
     "execution_count": 14,
     "metadata": {},
     "output_type": "execute_result"
    }
   ],
   "source": [
    "df.paymentMethod.value_counts()"
   ]
  },
  {
   "cell_type": "code",
   "execution_count": 15,
   "id": "4f6b46a0",
   "metadata": {},
   "outputs": [
    {
     "data": {
      "text/plain": [
       "3"
      ]
     },
     "execution_count": 15,
     "metadata": {},
     "output_type": "execute_result"
    }
   ],
   "source": [
    "df.paymentMethod.nunique()"
   ]
  },
  {
   "cell_type": "code",
   "execution_count": 16,
   "id": "8fe949d2",
   "metadata": {},
   "outputs": [
    {
     "data": {
      "text/plain": [
       "array(['paypal', 'storecredit', 'creditcard'], dtype=object)"
      ]
     },
     "execution_count": 16,
     "metadata": {},
     "output_type": "execute_result"
    }
   ],
   "source": [
    "df.paymentMethod.unique()"
   ]
  },
  {
   "cell_type": "code",
   "execution_count": 17,
   "id": "0c216568",
   "metadata": {},
   "outputs": [
    {
     "data": {
      "text/plain": [
       "0"
      ]
     },
     "execution_count": 17,
     "metadata": {},
     "output_type": "execute_result"
    }
   ],
   "source": [
    "df.paymentMethod.isna().sum()"
   ]
  },
  {
   "cell_type": "code",
   "execution_count": 18,
   "id": "d95262c0",
   "metadata": {},
   "outputs": [
    {
     "data": {
      "text/plain": [
       "0"
      ]
     },
     "execution_count": 18,
     "metadata": {},
     "output_type": "execute_result"
    }
   ],
   "source": [
    "df.paymentMethodAgeDays.isna().sum()"
   ]
  },
  {
   "cell_type": "code",
   "execution_count": 19,
   "id": "70289ee1",
   "metadata": {},
   "outputs": [
    {
     "data": {
      "text/plain": [
       "17094"
      ]
     },
     "execution_count": 19,
     "metadata": {},
     "output_type": "execute_result"
    }
   ],
   "source": [
    "df.paymentMethodAgeDays.nunique()"
   ]
  },
  {
   "cell_type": "code",
   "execution_count": 20,
   "id": "faf7910f",
   "metadata": {},
   "outputs": [
    {
     "data": {
      "text/plain": [
       "0.000000      13907\n",
       "0.000694       2334\n",
       "0.001389        875\n",
       "0.002083        500\n",
       "0.002778        375\n",
       "              ...  \n",
       "300.893750        1\n",
       "433.043056        1\n",
       "707.093056        1\n",
       "0.235417          1\n",
       "236.082639        1\n",
       "Name: paymentMethodAgeDays, Length: 17094, dtype: int64"
      ]
     },
     "execution_count": 20,
     "metadata": {},
     "output_type": "execute_result"
    }
   ],
   "source": [
    "df.paymentMethodAgeDays.value_counts()"
   ]
  },
  {
   "cell_type": "code",
   "execution_count": 21,
   "id": "80662ce7",
   "metadata": {},
   "outputs": [
    {
     "data": {
      "text/plain": [
       "0.0    19348\n",
       "1.0    19313\n",
       "Name: isWeekend, dtype: int64"
      ]
     },
     "execution_count": 21,
     "metadata": {},
     "output_type": "execute_result"
    }
   ],
   "source": [
    "df.isWeekend.value_counts()"
   ]
  },
  {
   "cell_type": "code",
   "execution_count": 22,
   "id": "1f90cffc",
   "metadata": {},
   "outputs": [
    {
     "data": {
      "text/plain": [
       "560"
      ]
     },
     "execution_count": 22,
     "metadata": {},
     "output_type": "execute_result"
    }
   ],
   "source": [
    "df.isWeekend.isnull().sum()"
   ]
  },
  {
   "cell_type": "code",
   "execution_count": 23,
   "id": "51840b80",
   "metadata": {},
   "outputs": [
    {
     "data": {
      "text/plain": [
       "1.427806532214885"
      ]
     },
     "execution_count": 23,
     "metadata": {},
     "output_type": "execute_result"
    }
   ],
   "source": [
    "#isWeekend:\n",
    "(560/39221)*100"
   ]
  },
  {
   "cell_type": "code",
   "execution_count": 24,
   "id": "ebbecbdd",
   "metadata": {},
   "outputs": [
    {
     "data": {
      "text/plain": [
       "shopping       13328\n",
       "food           12964\n",
       "electronics    12834\n",
       "Name: Category, dtype: int64"
      ]
     },
     "execution_count": 24,
     "metadata": {},
     "output_type": "execute_result"
    }
   ],
   "source": [
    "df.Category.value_counts()"
   ]
  },
  {
   "cell_type": "code",
   "execution_count": 25,
   "id": "93cb457b",
   "metadata": {},
   "outputs": [
    {
     "data": {
      "text/plain": [
       "95"
      ]
     },
     "execution_count": 25,
     "metadata": {},
     "output_type": "execute_result"
    }
   ],
   "source": [
    "df.Category.isna().sum()"
   ]
  },
  {
   "cell_type": "code",
   "execution_count": 26,
   "id": "16d20c2c",
   "metadata": {},
   "outputs": [
    {
     "data": {
      "text/plain": [
       "0.24221717957216798"
      ]
     },
     "execution_count": 26,
     "metadata": {},
     "output_type": "execute_result"
    }
   ],
   "source": [
    "#Category:\n",
    "(95/39221)*100"
   ]
  },
  {
   "cell_type": "code",
   "execution_count": 27,
   "id": "543481f4",
   "metadata": {},
   "outputs": [
    {
     "data": {
      "text/plain": [
       "0    38661\n",
       "1      560\n",
       "Name: label, dtype: int64"
      ]
     },
     "execution_count": 27,
     "metadata": {},
     "output_type": "execute_result"
    }
   ],
   "source": [
    "df.label.value_counts()"
   ]
  },
  {
   "cell_type": "code",
   "execution_count": 28,
   "id": "ca90275f",
   "metadata": {},
   "outputs": [
    {
     "data": {
      "text/plain": [
       "0"
      ]
     },
     "execution_count": 28,
     "metadata": {},
     "output_type": "execute_result"
    }
   ],
   "source": [
    "df.label.isna().sum()"
   ]
  },
  {
   "cell_type": "markdown",
   "id": "966f1dd7",
   "metadata": {},
   "source": [
    "NOTE:\n",
    "- Features with null values are isWeekend, Category\n",
    "- The feature **isWeekend** has 1.42% of null values\n",
    "- The feature **Category** has 0.24% of null values"
   ]
  },
  {
   "cell_type": "code",
   "execution_count": 29,
   "id": "386c3551",
   "metadata": {},
   "outputs": [
    {
     "data": {
      "text/html": [
       "<div>\n",
       "<style scoped>\n",
       "    .dataframe tbody tr th:only-of-type {\n",
       "        vertical-align: middle;\n",
       "    }\n",
       "\n",
       "    .dataframe tbody tr th {\n",
       "        vertical-align: top;\n",
       "    }\n",
       "\n",
       "    .dataframe thead th {\n",
       "        text-align: right;\n",
       "    }\n",
       "</style>\n",
       "<table border=\"1\" class=\"dataframe\">\n",
       "  <thead>\n",
       "    <tr style=\"text-align: right;\">\n",
       "      <th></th>\n",
       "      <th>accountAgeDays</th>\n",
       "      <th>numItems</th>\n",
       "      <th>localTime</th>\n",
       "      <th>paymentMethod</th>\n",
       "      <th>paymentMethodAgeDays</th>\n",
       "      <th>Category</th>\n",
       "      <th>isWeekend</th>\n",
       "      <th>Target</th>\n",
       "    </tr>\n",
       "  </thead>\n",
       "  <tbody>\n",
       "    <tr>\n",
       "      <th>0</th>\n",
       "      <td>29</td>\n",
       "      <td>1</td>\n",
       "      <td>4.745402</td>\n",
       "      <td>paypal</td>\n",
       "      <td>28.204861</td>\n",
       "      <td>shopping</td>\n",
       "      <td>0.0</td>\n",
       "      <td>0</td>\n",
       "    </tr>\n",
       "    <tr>\n",
       "      <th>1</th>\n",
       "      <td>725</td>\n",
       "      <td>1</td>\n",
       "      <td>4.742303</td>\n",
       "      <td>storecredit</td>\n",
       "      <td>0.000000</td>\n",
       "      <td>electronics</td>\n",
       "      <td>0.0</td>\n",
       "      <td>0</td>\n",
       "    </tr>\n",
       "    <tr>\n",
       "      <th>2</th>\n",
       "      <td>845</td>\n",
       "      <td>1</td>\n",
       "      <td>4.921318</td>\n",
       "      <td>creditcard</td>\n",
       "      <td>0.000000</td>\n",
       "      <td>food</td>\n",
       "      <td>1.0</td>\n",
       "      <td>0</td>\n",
       "    </tr>\n",
       "    <tr>\n",
       "      <th>3</th>\n",
       "      <td>503</td>\n",
       "      <td>1</td>\n",
       "      <td>4.886641</td>\n",
       "      <td>creditcard</td>\n",
       "      <td>0.000000</td>\n",
       "      <td>electronics</td>\n",
       "      <td>1.0</td>\n",
       "      <td>0</td>\n",
       "    </tr>\n",
       "    <tr>\n",
       "      <th>4</th>\n",
       "      <td>2000</td>\n",
       "      <td>1</td>\n",
       "      <td>5.040929</td>\n",
       "      <td>creditcard</td>\n",
       "      <td>0.000000</td>\n",
       "      <td>shopping</td>\n",
       "      <td>0.0</td>\n",
       "      <td>0</td>\n",
       "    </tr>\n",
       "    <tr>\n",
       "      <th>...</th>\n",
       "      <td>...</td>\n",
       "      <td>...</td>\n",
       "      <td>...</td>\n",
       "      <td>...</td>\n",
       "      <td>...</td>\n",
       "      <td>...</td>\n",
       "      <td>...</td>\n",
       "      <td>...</td>\n",
       "    </tr>\n",
       "    <tr>\n",
       "      <th>39216</th>\n",
       "      <td>986</td>\n",
       "      <td>1</td>\n",
       "      <td>4.836982</td>\n",
       "      <td>creditcard</td>\n",
       "      <td>0.000000</td>\n",
       "      <td>shopping</td>\n",
       "      <td>0.0</td>\n",
       "      <td>0</td>\n",
       "    </tr>\n",
       "    <tr>\n",
       "      <th>39217</th>\n",
       "      <td>1647</td>\n",
       "      <td>1</td>\n",
       "      <td>4.876771</td>\n",
       "      <td>creditcard</td>\n",
       "      <td>377.930556</td>\n",
       "      <td>shopping</td>\n",
       "      <td>0.0</td>\n",
       "      <td>0</td>\n",
       "    </tr>\n",
       "    <tr>\n",
       "      <th>39218</th>\n",
       "      <td>1591</td>\n",
       "      <td>1</td>\n",
       "      <td>4.742303</td>\n",
       "      <td>creditcard</td>\n",
       "      <td>0.000000</td>\n",
       "      <td>shopping</td>\n",
       "      <td>1.0</td>\n",
       "      <td>0</td>\n",
       "    </tr>\n",
       "    <tr>\n",
       "      <th>39219</th>\n",
       "      <td>237</td>\n",
       "      <td>1</td>\n",
       "      <td>4.921318</td>\n",
       "      <td>creditcard</td>\n",
       "      <td>236.082639</td>\n",
       "      <td>shopping</td>\n",
       "      <td>1.0</td>\n",
       "      <td>0</td>\n",
       "    </tr>\n",
       "    <tr>\n",
       "      <th>39220</th>\n",
       "      <td>272</td>\n",
       "      <td>1</td>\n",
       "      <td>5.040929</td>\n",
       "      <td>paypal</td>\n",
       "      <td>0.000694</td>\n",
       "      <td>shopping</td>\n",
       "      <td>0.0</td>\n",
       "      <td>0</td>\n",
       "    </tr>\n",
       "  </tbody>\n",
       "</table>\n",
       "<p>39221 rows × 8 columns</p>\n",
       "</div>"
      ],
      "text/plain": [
       "       accountAgeDays  numItems  localTime paymentMethod  \\\n",
       "0                  29         1   4.745402        paypal   \n",
       "1                 725         1   4.742303   storecredit   \n",
       "2                 845         1   4.921318    creditcard   \n",
       "3                 503         1   4.886641    creditcard   \n",
       "4                2000         1   5.040929    creditcard   \n",
       "...               ...       ...        ...           ...   \n",
       "39216             986         1   4.836982    creditcard   \n",
       "39217            1647         1   4.876771    creditcard   \n",
       "39218            1591         1   4.742303    creditcard   \n",
       "39219             237         1   4.921318    creditcard   \n",
       "39220             272         1   5.040929        paypal   \n",
       "\n",
       "       paymentMethodAgeDays     Category  isWeekend  Target  \n",
       "0                 28.204861     shopping        0.0       0  \n",
       "1                  0.000000  electronics        0.0       0  \n",
       "2                  0.000000         food        1.0       0  \n",
       "3                  0.000000  electronics        1.0       0  \n",
       "4                  0.000000     shopping        0.0       0  \n",
       "...                     ...          ...        ...     ...  \n",
       "39216              0.000000     shopping        0.0       0  \n",
       "39217            377.930556     shopping        0.0       0  \n",
       "39218              0.000000     shopping        1.0       0  \n",
       "39219            236.082639     shopping        1.0       0  \n",
       "39220              0.000694     shopping        0.0       0  \n",
       "\n",
       "[39221 rows x 8 columns]"
      ]
     },
     "execution_count": 29,
     "metadata": {},
     "output_type": "execute_result"
    }
   ],
   "source": [
    "df=df.rename({'label':'Target'},axis=1)\n",
    "df"
   ]
  },
  {
   "cell_type": "code",
   "execution_count": 30,
   "id": "c1fc3baf",
   "metadata": {},
   "outputs": [
    {
     "data": {
      "text/html": [
       "<div>\n",
       "<style scoped>\n",
       "    .dataframe tbody tr th:only-of-type {\n",
       "        vertical-align: middle;\n",
       "    }\n",
       "\n",
       "    .dataframe tbody tr th {\n",
       "        vertical-align: top;\n",
       "    }\n",
       "\n",
       "    .dataframe thead th {\n",
       "        text-align: right;\n",
       "    }\n",
       "</style>\n",
       "<table border=\"1\" class=\"dataframe\">\n",
       "  <thead>\n",
       "    <tr style=\"text-align: right;\">\n",
       "      <th></th>\n",
       "      <th>accountAgeDays</th>\n",
       "      <th>numItems</th>\n",
       "      <th>localTime</th>\n",
       "      <th>paymentMethod</th>\n",
       "      <th>paymentMethodAgeDays</th>\n",
       "      <th>Category</th>\n",
       "      <th>isWeekend</th>\n",
       "      <th>Target</th>\n",
       "    </tr>\n",
       "  </thead>\n",
       "  <tbody>\n",
       "    <tr>\n",
       "      <th>0</th>\n",
       "      <td>29</td>\n",
       "      <td>1</td>\n",
       "      <td>4.745402</td>\n",
       "      <td>paypal</td>\n",
       "      <td>28.204861</td>\n",
       "      <td>shopping</td>\n",
       "      <td>0.0</td>\n",
       "      <td>0</td>\n",
       "    </tr>\n",
       "    <tr>\n",
       "      <th>1</th>\n",
       "      <td>725</td>\n",
       "      <td>1</td>\n",
       "      <td>4.742303</td>\n",
       "      <td>storecredit</td>\n",
       "      <td>0.000000</td>\n",
       "      <td>electronics</td>\n",
       "      <td>0.0</td>\n",
       "      <td>0</td>\n",
       "    </tr>\n",
       "    <tr>\n",
       "      <th>2</th>\n",
       "      <td>845</td>\n",
       "      <td>1</td>\n",
       "      <td>4.921318</td>\n",
       "      <td>creditcard</td>\n",
       "      <td>0.000000</td>\n",
       "      <td>food</td>\n",
       "      <td>1.0</td>\n",
       "      <td>0</td>\n",
       "    </tr>\n",
       "    <tr>\n",
       "      <th>3</th>\n",
       "      <td>503</td>\n",
       "      <td>1</td>\n",
       "      <td>4.886641</td>\n",
       "      <td>creditcard</td>\n",
       "      <td>0.000000</td>\n",
       "      <td>electronics</td>\n",
       "      <td>1.0</td>\n",
       "      <td>0</td>\n",
       "    </tr>\n",
       "    <tr>\n",
       "      <th>4</th>\n",
       "      <td>2000</td>\n",
       "      <td>1</td>\n",
       "      <td>5.040929</td>\n",
       "      <td>creditcard</td>\n",
       "      <td>0.000000</td>\n",
       "      <td>shopping</td>\n",
       "      <td>0.0</td>\n",
       "      <td>0</td>\n",
       "    </tr>\n",
       "  </tbody>\n",
       "</table>\n",
       "</div>"
      ],
      "text/plain": [
       "   accountAgeDays  numItems  localTime paymentMethod  paymentMethodAgeDays  \\\n",
       "0              29         1   4.745402        paypal             28.204861   \n",
       "1             725         1   4.742303   storecredit              0.000000   \n",
       "2             845         1   4.921318    creditcard              0.000000   \n",
       "3             503         1   4.886641    creditcard              0.000000   \n",
       "4            2000         1   5.040929    creditcard              0.000000   \n",
       "\n",
       "      Category  isWeekend  Target  \n",
       "0     shopping        0.0       0  \n",
       "1  electronics        0.0       0  \n",
       "2         food        1.0       0  \n",
       "3  electronics        1.0       0  \n",
       "4     shopping        0.0       0  "
      ]
     },
     "execution_count": 30,
     "metadata": {},
     "output_type": "execute_result"
    }
   ],
   "source": [
    "df.head()"
   ]
  },
  {
   "cell_type": "code",
   "execution_count": 31,
   "id": "80198789",
   "metadata": {},
   "outputs": [
    {
     "data": {
      "text/plain": [
       "accountAgeDays            int64\n",
       "numItems                  int64\n",
       "localTime               float64\n",
       "paymentMethod            object\n",
       "paymentMethodAgeDays    float64\n",
       "Category                 object\n",
       "isWeekend               float64\n",
       "Target                    int64\n",
       "dtype: object"
      ]
     },
     "execution_count": 31,
     "metadata": {},
     "output_type": "execute_result"
    }
   ],
   "source": [
    "df.dtypes"
   ]
  },
  {
   "cell_type": "code",
   "execution_count": 32,
   "id": "25775aa9",
   "metadata": {},
   "outputs": [],
   "source": [
    "\n",
    "\n",
    "df['localTime'] = pd.to_datetime(df['localTime'])\n",
    "df['localTime_month'] = df['localTime'].dt.month\n",
    "\n",
    "\n",
    "df['localTime'] = pd.to_datetime(df['localTime'])\n",
    "df['localTime_weekday'] = df['localTime'].dt.weekday\n",
    "\n",
    "df['localTime'] = pd.to_datetime(df['localTime'])\n",
    "df['localTime_hour'] = df['localTime'].dt.hour\n",
    "\n",
    "df['localTime'] = pd.to_datetime(df['localTime'])\n",
    "df['localTime_minute'] = df['localTime'].dt.minute\n",
    "\n",
    "df['localTime'] = pd.to_datetime(df['localTime'])\n",
    "df['localTime_seconds'] = df['localTime'].dt.second\n",
    "\n"
   ]
  },
  {
   "cell_type": "code",
   "execution_count": 33,
   "id": "96361274",
   "metadata": {},
   "outputs": [
    {
     "data": {
      "text/html": [
       "<div>\n",
       "<style scoped>\n",
       "    .dataframe tbody tr th:only-of-type {\n",
       "        vertical-align: middle;\n",
       "    }\n",
       "\n",
       "    .dataframe tbody tr th {\n",
       "        vertical-align: top;\n",
       "    }\n",
       "\n",
       "    .dataframe thead th {\n",
       "        text-align: right;\n",
       "    }\n",
       "</style>\n",
       "<table border=\"1\" class=\"dataframe\">\n",
       "  <thead>\n",
       "    <tr style=\"text-align: right;\">\n",
       "      <th></th>\n",
       "      <th>accountAgeDays</th>\n",
       "      <th>numItems</th>\n",
       "      <th>localTime</th>\n",
       "      <th>paymentMethod</th>\n",
       "      <th>paymentMethodAgeDays</th>\n",
       "      <th>Category</th>\n",
       "      <th>isWeekend</th>\n",
       "      <th>Target</th>\n",
       "      <th>localTime_month</th>\n",
       "      <th>localTime_weekday</th>\n",
       "      <th>localTime_hour</th>\n",
       "      <th>localTime_minute</th>\n",
       "      <th>localTime_seconds</th>\n",
       "    </tr>\n",
       "  </thead>\n",
       "  <tbody>\n",
       "    <tr>\n",
       "      <th>0</th>\n",
       "      <td>29</td>\n",
       "      <td>1</td>\n",
       "      <td>1970-01-01 00:00:00.000000004</td>\n",
       "      <td>paypal</td>\n",
       "      <td>28.204861</td>\n",
       "      <td>shopping</td>\n",
       "      <td>0.0</td>\n",
       "      <td>0</td>\n",
       "      <td>1</td>\n",
       "      <td>3</td>\n",
       "      <td>0</td>\n",
       "      <td>0</td>\n",
       "      <td>0</td>\n",
       "    </tr>\n",
       "    <tr>\n",
       "      <th>1</th>\n",
       "      <td>725</td>\n",
       "      <td>1</td>\n",
       "      <td>1970-01-01 00:00:00.000000004</td>\n",
       "      <td>storecredit</td>\n",
       "      <td>0.000000</td>\n",
       "      <td>electronics</td>\n",
       "      <td>0.0</td>\n",
       "      <td>0</td>\n",
       "      <td>1</td>\n",
       "      <td>3</td>\n",
       "      <td>0</td>\n",
       "      <td>0</td>\n",
       "      <td>0</td>\n",
       "    </tr>\n",
       "    <tr>\n",
       "      <th>2</th>\n",
       "      <td>845</td>\n",
       "      <td>1</td>\n",
       "      <td>1970-01-01 00:00:00.000000004</td>\n",
       "      <td>creditcard</td>\n",
       "      <td>0.000000</td>\n",
       "      <td>food</td>\n",
       "      <td>1.0</td>\n",
       "      <td>0</td>\n",
       "      <td>1</td>\n",
       "      <td>3</td>\n",
       "      <td>0</td>\n",
       "      <td>0</td>\n",
       "      <td>0</td>\n",
       "    </tr>\n",
       "    <tr>\n",
       "      <th>3</th>\n",
       "      <td>503</td>\n",
       "      <td>1</td>\n",
       "      <td>1970-01-01 00:00:00.000000004</td>\n",
       "      <td>creditcard</td>\n",
       "      <td>0.000000</td>\n",
       "      <td>electronics</td>\n",
       "      <td>1.0</td>\n",
       "      <td>0</td>\n",
       "      <td>1</td>\n",
       "      <td>3</td>\n",
       "      <td>0</td>\n",
       "      <td>0</td>\n",
       "      <td>0</td>\n",
       "    </tr>\n",
       "    <tr>\n",
       "      <th>4</th>\n",
       "      <td>2000</td>\n",
       "      <td>1</td>\n",
       "      <td>1970-01-01 00:00:00.000000005</td>\n",
       "      <td>creditcard</td>\n",
       "      <td>0.000000</td>\n",
       "      <td>shopping</td>\n",
       "      <td>0.0</td>\n",
       "      <td>0</td>\n",
       "      <td>1</td>\n",
       "      <td>3</td>\n",
       "      <td>0</td>\n",
       "      <td>0</td>\n",
       "      <td>0</td>\n",
       "    </tr>\n",
       "  </tbody>\n",
       "</table>\n",
       "</div>"
      ],
      "text/plain": [
       "   accountAgeDays  numItems                     localTime paymentMethod  \\\n",
       "0              29         1 1970-01-01 00:00:00.000000004        paypal   \n",
       "1             725         1 1970-01-01 00:00:00.000000004   storecredit   \n",
       "2             845         1 1970-01-01 00:00:00.000000004    creditcard   \n",
       "3             503         1 1970-01-01 00:00:00.000000004    creditcard   \n",
       "4            2000         1 1970-01-01 00:00:00.000000005    creditcard   \n",
       "\n",
       "   paymentMethodAgeDays     Category  isWeekend  Target  localTime_month  \\\n",
       "0             28.204861     shopping        0.0       0                1   \n",
       "1              0.000000  electronics        0.0       0                1   \n",
       "2              0.000000         food        1.0       0                1   \n",
       "3              0.000000  electronics        1.0       0                1   \n",
       "4              0.000000     shopping        0.0       0                1   \n",
       "\n",
       "   localTime_weekday  localTime_hour  localTime_minute  localTime_seconds  \n",
       "0                  3               0                 0                  0  \n",
       "1                  3               0                 0                  0  \n",
       "2                  3               0                 0                  0  \n",
       "3                  3               0                 0                  0  \n",
       "4                  3               0                 0                  0  "
      ]
     },
     "execution_count": 33,
     "metadata": {},
     "output_type": "execute_result"
    }
   ],
   "source": [
    "df.head()"
   ]
  },
  {
   "cell_type": "code",
   "execution_count": 34,
   "id": "f18d99ab",
   "metadata": {},
   "outputs": [
    {
     "name": "stdout",
     "output_type": "stream",
     "text": [
      "<class 'pandas.core.frame.DataFrame'>\n",
      "RangeIndex: 39221 entries, 0 to 39220\n",
      "Data columns (total 13 columns):\n",
      " #   Column                Non-Null Count  Dtype         \n",
      "---  ------                --------------  -----         \n",
      " 0   accountAgeDays        39221 non-null  int64         \n",
      " 1   numItems              39221 non-null  int64         \n",
      " 2   localTime             39221 non-null  datetime64[ns]\n",
      " 3   paymentMethod         39221 non-null  object        \n",
      " 4   paymentMethodAgeDays  39221 non-null  float64       \n",
      " 5   Category              39126 non-null  object        \n",
      " 6   isWeekend             38661 non-null  float64       \n",
      " 7   Target                39221 non-null  int64         \n",
      " 8   localTime_month       39221 non-null  int64         \n",
      " 9   localTime_weekday     39221 non-null  int64         \n",
      " 10  localTime_hour        39221 non-null  int64         \n",
      " 11  localTime_minute      39221 non-null  int64         \n",
      " 12  localTime_seconds     39221 non-null  int64         \n",
      "dtypes: datetime64[ns](1), float64(2), int64(8), object(2)\n",
      "memory usage: 3.9+ MB\n"
     ]
    }
   ],
   "source": [
    "df.info()"
   ]
  },
  {
   "cell_type": "code",
   "execution_count": 35,
   "id": "e7b3eb4d",
   "metadata": {},
   "outputs": [
    {
     "data": {
      "text/html": [
       "<div>\n",
       "<style scoped>\n",
       "    .dataframe tbody tr th:only-of-type {\n",
       "        vertical-align: middle;\n",
       "    }\n",
       "\n",
       "    .dataframe tbody tr th {\n",
       "        vertical-align: top;\n",
       "    }\n",
       "\n",
       "    .dataframe thead th {\n",
       "        text-align: right;\n",
       "    }\n",
       "</style>\n",
       "<table border=\"1\" class=\"dataframe\">\n",
       "  <thead>\n",
       "    <tr style=\"text-align: right;\">\n",
       "      <th></th>\n",
       "      <th>accountAgeDays</th>\n",
       "      <th>numItems</th>\n",
       "      <th>localTime</th>\n",
       "      <th>paymentMethod</th>\n",
       "      <th>paymentMethodAgeDays</th>\n",
       "      <th>Category</th>\n",
       "      <th>isWeekend</th>\n",
       "      <th>Target</th>\n",
       "      <th>localTime_month</th>\n",
       "      <th>localTime_weekday</th>\n",
       "      <th>localTime_hour</th>\n",
       "      <th>localTime_minute</th>\n",
       "      <th>localTime_seconds</th>\n",
       "    </tr>\n",
       "  </thead>\n",
       "  <tbody>\n",
       "    <tr>\n",
       "      <th>0</th>\n",
       "      <td>29</td>\n",
       "      <td>1</td>\n",
       "      <td>1970-01-01 00:00:00.000000004</td>\n",
       "      <td>paypal</td>\n",
       "      <td>28.204861</td>\n",
       "      <td>shopping</td>\n",
       "      <td>0.0</td>\n",
       "      <td>0</td>\n",
       "      <td>1</td>\n",
       "      <td>3</td>\n",
       "      <td>0</td>\n",
       "      <td>0</td>\n",
       "      <td>0</td>\n",
       "    </tr>\n",
       "    <tr>\n",
       "      <th>1</th>\n",
       "      <td>725</td>\n",
       "      <td>1</td>\n",
       "      <td>1970-01-01 00:00:00.000000004</td>\n",
       "      <td>storecredit</td>\n",
       "      <td>0.000000</td>\n",
       "      <td>electronics</td>\n",
       "      <td>0.0</td>\n",
       "      <td>0</td>\n",
       "      <td>1</td>\n",
       "      <td>3</td>\n",
       "      <td>0</td>\n",
       "      <td>0</td>\n",
       "      <td>0</td>\n",
       "    </tr>\n",
       "    <tr>\n",
       "      <th>2</th>\n",
       "      <td>845</td>\n",
       "      <td>1</td>\n",
       "      <td>1970-01-01 00:00:00.000000004</td>\n",
       "      <td>creditcard</td>\n",
       "      <td>0.000000</td>\n",
       "      <td>food</td>\n",
       "      <td>1.0</td>\n",
       "      <td>0</td>\n",
       "      <td>1</td>\n",
       "      <td>3</td>\n",
       "      <td>0</td>\n",
       "      <td>0</td>\n",
       "      <td>0</td>\n",
       "    </tr>\n",
       "    <tr>\n",
       "      <th>3</th>\n",
       "      <td>503</td>\n",
       "      <td>1</td>\n",
       "      <td>1970-01-01 00:00:00.000000004</td>\n",
       "      <td>creditcard</td>\n",
       "      <td>0.000000</td>\n",
       "      <td>electronics</td>\n",
       "      <td>1.0</td>\n",
       "      <td>0</td>\n",
       "      <td>1</td>\n",
       "      <td>3</td>\n",
       "      <td>0</td>\n",
       "      <td>0</td>\n",
       "      <td>0</td>\n",
       "    </tr>\n",
       "    <tr>\n",
       "      <th>4</th>\n",
       "      <td>2000</td>\n",
       "      <td>1</td>\n",
       "      <td>1970-01-01 00:00:00.000000005</td>\n",
       "      <td>creditcard</td>\n",
       "      <td>0.000000</td>\n",
       "      <td>shopping</td>\n",
       "      <td>0.0</td>\n",
       "      <td>0</td>\n",
       "      <td>1</td>\n",
       "      <td>3</td>\n",
       "      <td>0</td>\n",
       "      <td>0</td>\n",
       "      <td>0</td>\n",
       "    </tr>\n",
       "  </tbody>\n",
       "</table>\n",
       "</div>"
      ],
      "text/plain": [
       "   accountAgeDays  numItems                     localTime paymentMethod  \\\n",
       "0              29         1 1970-01-01 00:00:00.000000004        paypal   \n",
       "1             725         1 1970-01-01 00:00:00.000000004   storecredit   \n",
       "2             845         1 1970-01-01 00:00:00.000000004    creditcard   \n",
       "3             503         1 1970-01-01 00:00:00.000000004    creditcard   \n",
       "4            2000         1 1970-01-01 00:00:00.000000005    creditcard   \n",
       "\n",
       "   paymentMethodAgeDays     Category  isWeekend  Target  localTime_month  \\\n",
       "0             28.204861     shopping        0.0       0                1   \n",
       "1              0.000000  electronics        0.0       0                1   \n",
       "2              0.000000         food        1.0       0                1   \n",
       "3              0.000000  electronics        1.0       0                1   \n",
       "4              0.000000     shopping        0.0       0                1   \n",
       "\n",
       "   localTime_weekday  localTime_hour  localTime_minute  localTime_seconds  \n",
       "0                  3               0                 0                  0  \n",
       "1                  3               0                 0                  0  \n",
       "2                  3               0                 0                  0  \n",
       "3                  3               0                 0                  0  \n",
       "4                  3               0                 0                  0  "
      ]
     },
     "execution_count": 35,
     "metadata": {},
     "output_type": "execute_result"
    }
   ],
   "source": [
    "df.head()"
   ]
  },
  {
   "cell_type": "code",
   "execution_count": 36,
   "id": "6e8bf356",
   "metadata": {},
   "outputs": [
    {
     "name": "stdout",
     "output_type": "stream",
     "text": [
      "<class 'pandas.core.frame.DataFrame'>\n",
      "RangeIndex: 39221 entries, 0 to 39220\n",
      "Data columns (total 13 columns):\n",
      " #   Column                Non-Null Count  Dtype         \n",
      "---  ------                --------------  -----         \n",
      " 0   accountAgeDays        39221 non-null  int64         \n",
      " 1   numItems              39221 non-null  int64         \n",
      " 2   localTime             39221 non-null  datetime64[ns]\n",
      " 3   paymentMethod         39221 non-null  object        \n",
      " 4   paymentMethodAgeDays  39221 non-null  float64       \n",
      " 5   Category              39126 non-null  object        \n",
      " 6   isWeekend             38661 non-null  float64       \n",
      " 7   Target                39221 non-null  int64         \n",
      " 8   localTime_month       39221 non-null  int64         \n",
      " 9   localTime_weekday     39221 non-null  int64         \n",
      " 10  localTime_hour        39221 non-null  int64         \n",
      " 11  localTime_minute      39221 non-null  int64         \n",
      " 12  localTime_seconds     39221 non-null  int64         \n",
      "dtypes: datetime64[ns](1), float64(2), int64(8), object(2)\n",
      "memory usage: 3.9+ MB\n"
     ]
    }
   ],
   "source": [
    "df.info()"
   ]
  },
  {
   "cell_type": "code",
   "execution_count": 37,
   "id": "74ebc764",
   "metadata": {},
   "outputs": [],
   "source": [
    "df.drop(['localTime'],axis=1,inplace=True)"
   ]
  },
  {
   "cell_type": "code",
   "execution_count": 38,
   "id": "c3d643cf",
   "metadata": {},
   "outputs": [
    {
     "name": "stdout",
     "output_type": "stream",
     "text": [
      "<class 'pandas.core.frame.DataFrame'>\n",
      "RangeIndex: 39221 entries, 0 to 39220\n",
      "Data columns (total 12 columns):\n",
      " #   Column                Non-Null Count  Dtype  \n",
      "---  ------                --------------  -----  \n",
      " 0   accountAgeDays        39221 non-null  int64  \n",
      " 1   numItems              39221 non-null  int64  \n",
      " 2   paymentMethod         39221 non-null  object \n",
      " 3   paymentMethodAgeDays  39221 non-null  float64\n",
      " 4   Category              39126 non-null  object \n",
      " 5   isWeekend             38661 non-null  float64\n",
      " 6   Target                39221 non-null  int64  \n",
      " 7   localTime_month       39221 non-null  int64  \n",
      " 8   localTime_weekday     39221 non-null  int64  \n",
      " 9   localTime_hour        39221 non-null  int64  \n",
      " 10  localTime_minute      39221 non-null  int64  \n",
      " 11  localTime_seconds     39221 non-null  int64  \n",
      "dtypes: float64(2), int64(8), object(2)\n",
      "memory usage: 3.6+ MB\n"
     ]
    }
   ],
   "source": [
    "df.info()"
   ]
  },
  {
   "cell_type": "code",
   "execution_count": 39,
   "id": "6d2a49e2",
   "metadata": {},
   "outputs": [
    {
     "data": {
      "text/html": [
       "<div>\n",
       "<style scoped>\n",
       "    .dataframe tbody tr th:only-of-type {\n",
       "        vertical-align: middle;\n",
       "    }\n",
       "\n",
       "    .dataframe tbody tr th {\n",
       "        vertical-align: top;\n",
       "    }\n",
       "\n",
       "    .dataframe thead th {\n",
       "        text-align: right;\n",
       "    }\n",
       "</style>\n",
       "<table border=\"1\" class=\"dataframe\">\n",
       "  <thead>\n",
       "    <tr style=\"text-align: right;\">\n",
       "      <th></th>\n",
       "      <th>accountAgeDays</th>\n",
       "      <th>numItems</th>\n",
       "      <th>paymentMethod</th>\n",
       "      <th>paymentMethodAgeDays</th>\n",
       "      <th>Category</th>\n",
       "      <th>isWeekend</th>\n",
       "      <th>Target</th>\n",
       "      <th>localTime_month</th>\n",
       "      <th>localTime_weekday</th>\n",
       "      <th>localTime_hour</th>\n",
       "      <th>localTime_minute</th>\n",
       "      <th>localTime_seconds</th>\n",
       "    </tr>\n",
       "  </thead>\n",
       "  <tbody>\n",
       "    <tr>\n",
       "      <th>0</th>\n",
       "      <td>29</td>\n",
       "      <td>1</td>\n",
       "      <td>paypal</td>\n",
       "      <td>28.204861</td>\n",
       "      <td>shopping</td>\n",
       "      <td>0.0</td>\n",
       "      <td>0</td>\n",
       "      <td>1</td>\n",
       "      <td>3</td>\n",
       "      <td>0</td>\n",
       "      <td>0</td>\n",
       "      <td>0</td>\n",
       "    </tr>\n",
       "    <tr>\n",
       "      <th>1</th>\n",
       "      <td>725</td>\n",
       "      <td>1</td>\n",
       "      <td>storecredit</td>\n",
       "      <td>0.000000</td>\n",
       "      <td>electronics</td>\n",
       "      <td>0.0</td>\n",
       "      <td>0</td>\n",
       "      <td>1</td>\n",
       "      <td>3</td>\n",
       "      <td>0</td>\n",
       "      <td>0</td>\n",
       "      <td>0</td>\n",
       "    </tr>\n",
       "    <tr>\n",
       "      <th>2</th>\n",
       "      <td>845</td>\n",
       "      <td>1</td>\n",
       "      <td>creditcard</td>\n",
       "      <td>0.000000</td>\n",
       "      <td>food</td>\n",
       "      <td>1.0</td>\n",
       "      <td>0</td>\n",
       "      <td>1</td>\n",
       "      <td>3</td>\n",
       "      <td>0</td>\n",
       "      <td>0</td>\n",
       "      <td>0</td>\n",
       "    </tr>\n",
       "  </tbody>\n",
       "</table>\n",
       "</div>"
      ],
      "text/plain": [
       "   accountAgeDays  numItems paymentMethod  paymentMethodAgeDays     Category  \\\n",
       "0              29         1        paypal             28.204861     shopping   \n",
       "1             725         1   storecredit              0.000000  electronics   \n",
       "2             845         1    creditcard              0.000000         food   \n",
       "\n",
       "   isWeekend  Target  localTime_month  localTime_weekday  localTime_hour  \\\n",
       "0        0.0       0                1                  3               0   \n",
       "1        0.0       0                1                  3               0   \n",
       "2        1.0       0                1                  3               0   \n",
       "\n",
       "   localTime_minute  localTime_seconds  \n",
       "0                 0                  0  \n",
       "1                 0                  0  \n",
       "2                 0                  0  "
      ]
     },
     "execution_count": 39,
     "metadata": {},
     "output_type": "execute_result"
    }
   ],
   "source": [
    "df.head(3)"
   ]
  },
  {
   "cell_type": "code",
   "execution_count": 40,
   "id": "9af2b6c5",
   "metadata": {},
   "outputs": [
    {
     "name": "stdout",
     "output_type": "stream",
     "text": [
      "<class 'pandas.core.frame.DataFrame'>\n",
      "RangeIndex: 39221 entries, 0 to 39220\n",
      "Data columns (total 12 columns):\n",
      " #   Column                Non-Null Count  Dtype  \n",
      "---  ------                --------------  -----  \n",
      " 0   accountAgeDays        39221 non-null  int64  \n",
      " 1   numItems              39221 non-null  int64  \n",
      " 2   paymentMethod         39221 non-null  object \n",
      " 3   paymentMethodAgeDays  39221 non-null  float64\n",
      " 4   Category              39126 non-null  object \n",
      " 5   isWeekend             38661 non-null  float64\n",
      " 6   Target                39221 non-null  int64  \n",
      " 7   localTime_month       39221 non-null  int64  \n",
      " 8   localTime_weekday     39221 non-null  int64  \n",
      " 9   localTime_hour        39221 non-null  int64  \n",
      " 10  localTime_minute      39221 non-null  int64  \n",
      " 11  localTime_seconds     39221 non-null  int64  \n",
      "dtypes: float64(2), int64(8), object(2)\n",
      "memory usage: 3.6+ MB\n"
     ]
    }
   ],
   "source": [
    "df.info()"
   ]
  },
  {
   "cell_type": "code",
   "execution_count": 41,
   "id": "3cbe8e5d",
   "metadata": {},
   "outputs": [
    {
     "data": {
      "text/html": [
       "<div>\n",
       "<style scoped>\n",
       "    .dataframe tbody tr th:only-of-type {\n",
       "        vertical-align: middle;\n",
       "    }\n",
       "\n",
       "    .dataframe tbody tr th {\n",
       "        vertical-align: top;\n",
       "    }\n",
       "\n",
       "    .dataframe thead th {\n",
       "        text-align: right;\n",
       "    }\n",
       "</style>\n",
       "<table border=\"1\" class=\"dataframe\">\n",
       "  <thead>\n",
       "    <tr style=\"text-align: right;\">\n",
       "      <th></th>\n",
       "      <th>accountAgeDays</th>\n",
       "      <th>numItems</th>\n",
       "      <th>paymentMethodAgeDays</th>\n",
       "      <th>isWeekend</th>\n",
       "      <th>Target</th>\n",
       "      <th>localTime_month</th>\n",
       "      <th>localTime_weekday</th>\n",
       "      <th>localTime_hour</th>\n",
       "      <th>localTime_minute</th>\n",
       "      <th>localTime_seconds</th>\n",
       "      <th>paymentMethod_creditcard</th>\n",
       "      <th>paymentMethod_paypal</th>\n",
       "      <th>paymentMethod_storecredit</th>\n",
       "      <th>Category_electronics</th>\n",
       "      <th>Category_food</th>\n",
       "      <th>Category_shopping</th>\n",
       "    </tr>\n",
       "  </thead>\n",
       "  <tbody>\n",
       "    <tr>\n",
       "      <th>0</th>\n",
       "      <td>29</td>\n",
       "      <td>1</td>\n",
       "      <td>28.204861</td>\n",
       "      <td>0.0</td>\n",
       "      <td>0</td>\n",
       "      <td>1</td>\n",
       "      <td>3</td>\n",
       "      <td>0</td>\n",
       "      <td>0</td>\n",
       "      <td>0</td>\n",
       "      <td>0</td>\n",
       "      <td>1</td>\n",
       "      <td>0</td>\n",
       "      <td>0</td>\n",
       "      <td>0</td>\n",
       "      <td>1</td>\n",
       "    </tr>\n",
       "    <tr>\n",
       "      <th>1</th>\n",
       "      <td>725</td>\n",
       "      <td>1</td>\n",
       "      <td>0.000000</td>\n",
       "      <td>0.0</td>\n",
       "      <td>0</td>\n",
       "      <td>1</td>\n",
       "      <td>3</td>\n",
       "      <td>0</td>\n",
       "      <td>0</td>\n",
       "      <td>0</td>\n",
       "      <td>0</td>\n",
       "      <td>0</td>\n",
       "      <td>1</td>\n",
       "      <td>1</td>\n",
       "      <td>0</td>\n",
       "      <td>0</td>\n",
       "    </tr>\n",
       "    <tr>\n",
       "      <th>2</th>\n",
       "      <td>845</td>\n",
       "      <td>1</td>\n",
       "      <td>0.000000</td>\n",
       "      <td>1.0</td>\n",
       "      <td>0</td>\n",
       "      <td>1</td>\n",
       "      <td>3</td>\n",
       "      <td>0</td>\n",
       "      <td>0</td>\n",
       "      <td>0</td>\n",
       "      <td>1</td>\n",
       "      <td>0</td>\n",
       "      <td>0</td>\n",
       "      <td>0</td>\n",
       "      <td>1</td>\n",
       "      <td>0</td>\n",
       "    </tr>\n",
       "    <tr>\n",
       "      <th>3</th>\n",
       "      <td>503</td>\n",
       "      <td>1</td>\n",
       "      <td>0.000000</td>\n",
       "      <td>1.0</td>\n",
       "      <td>0</td>\n",
       "      <td>1</td>\n",
       "      <td>3</td>\n",
       "      <td>0</td>\n",
       "      <td>0</td>\n",
       "      <td>0</td>\n",
       "      <td>1</td>\n",
       "      <td>0</td>\n",
       "      <td>0</td>\n",
       "      <td>1</td>\n",
       "      <td>0</td>\n",
       "      <td>0</td>\n",
       "    </tr>\n",
       "    <tr>\n",
       "      <th>4</th>\n",
       "      <td>2000</td>\n",
       "      <td>1</td>\n",
       "      <td>0.000000</td>\n",
       "      <td>0.0</td>\n",
       "      <td>0</td>\n",
       "      <td>1</td>\n",
       "      <td>3</td>\n",
       "      <td>0</td>\n",
       "      <td>0</td>\n",
       "      <td>0</td>\n",
       "      <td>1</td>\n",
       "      <td>0</td>\n",
       "      <td>0</td>\n",
       "      <td>0</td>\n",
       "      <td>0</td>\n",
       "      <td>1</td>\n",
       "    </tr>\n",
       "    <tr>\n",
       "      <th>...</th>\n",
       "      <td>...</td>\n",
       "      <td>...</td>\n",
       "      <td>...</td>\n",
       "      <td>...</td>\n",
       "      <td>...</td>\n",
       "      <td>...</td>\n",
       "      <td>...</td>\n",
       "      <td>...</td>\n",
       "      <td>...</td>\n",
       "      <td>...</td>\n",
       "      <td>...</td>\n",
       "      <td>...</td>\n",
       "      <td>...</td>\n",
       "      <td>...</td>\n",
       "      <td>...</td>\n",
       "      <td>...</td>\n",
       "    </tr>\n",
       "    <tr>\n",
       "      <th>39216</th>\n",
       "      <td>986</td>\n",
       "      <td>1</td>\n",
       "      <td>0.000000</td>\n",
       "      <td>0.0</td>\n",
       "      <td>0</td>\n",
       "      <td>1</td>\n",
       "      <td>3</td>\n",
       "      <td>0</td>\n",
       "      <td>0</td>\n",
       "      <td>0</td>\n",
       "      <td>1</td>\n",
       "      <td>0</td>\n",
       "      <td>0</td>\n",
       "      <td>0</td>\n",
       "      <td>0</td>\n",
       "      <td>1</td>\n",
       "    </tr>\n",
       "    <tr>\n",
       "      <th>39217</th>\n",
       "      <td>1647</td>\n",
       "      <td>1</td>\n",
       "      <td>377.930556</td>\n",
       "      <td>0.0</td>\n",
       "      <td>0</td>\n",
       "      <td>1</td>\n",
       "      <td>3</td>\n",
       "      <td>0</td>\n",
       "      <td>0</td>\n",
       "      <td>0</td>\n",
       "      <td>1</td>\n",
       "      <td>0</td>\n",
       "      <td>0</td>\n",
       "      <td>0</td>\n",
       "      <td>0</td>\n",
       "      <td>1</td>\n",
       "    </tr>\n",
       "    <tr>\n",
       "      <th>39218</th>\n",
       "      <td>1591</td>\n",
       "      <td>1</td>\n",
       "      <td>0.000000</td>\n",
       "      <td>1.0</td>\n",
       "      <td>0</td>\n",
       "      <td>1</td>\n",
       "      <td>3</td>\n",
       "      <td>0</td>\n",
       "      <td>0</td>\n",
       "      <td>0</td>\n",
       "      <td>1</td>\n",
       "      <td>0</td>\n",
       "      <td>0</td>\n",
       "      <td>0</td>\n",
       "      <td>0</td>\n",
       "      <td>1</td>\n",
       "    </tr>\n",
       "    <tr>\n",
       "      <th>39219</th>\n",
       "      <td>237</td>\n",
       "      <td>1</td>\n",
       "      <td>236.082639</td>\n",
       "      <td>1.0</td>\n",
       "      <td>0</td>\n",
       "      <td>1</td>\n",
       "      <td>3</td>\n",
       "      <td>0</td>\n",
       "      <td>0</td>\n",
       "      <td>0</td>\n",
       "      <td>1</td>\n",
       "      <td>0</td>\n",
       "      <td>0</td>\n",
       "      <td>0</td>\n",
       "      <td>0</td>\n",
       "      <td>1</td>\n",
       "    </tr>\n",
       "    <tr>\n",
       "      <th>39220</th>\n",
       "      <td>272</td>\n",
       "      <td>1</td>\n",
       "      <td>0.000694</td>\n",
       "      <td>0.0</td>\n",
       "      <td>0</td>\n",
       "      <td>1</td>\n",
       "      <td>3</td>\n",
       "      <td>0</td>\n",
       "      <td>0</td>\n",
       "      <td>0</td>\n",
       "      <td>0</td>\n",
       "      <td>1</td>\n",
       "      <td>0</td>\n",
       "      <td>0</td>\n",
       "      <td>0</td>\n",
       "      <td>1</td>\n",
       "    </tr>\n",
       "  </tbody>\n",
       "</table>\n",
       "<p>39221 rows × 16 columns</p>\n",
       "</div>"
      ],
      "text/plain": [
       "       accountAgeDays  numItems  paymentMethodAgeDays  isWeekend  Target  \\\n",
       "0                  29         1             28.204861        0.0       0   \n",
       "1                 725         1              0.000000        0.0       0   \n",
       "2                 845         1              0.000000        1.0       0   \n",
       "3                 503         1              0.000000        1.0       0   \n",
       "4                2000         1              0.000000        0.0       0   \n",
       "...               ...       ...                   ...        ...     ...   \n",
       "39216             986         1              0.000000        0.0       0   \n",
       "39217            1647         1            377.930556        0.0       0   \n",
       "39218            1591         1              0.000000        1.0       0   \n",
       "39219             237         1            236.082639        1.0       0   \n",
       "39220             272         1              0.000694        0.0       0   \n",
       "\n",
       "       localTime_month  localTime_weekday  localTime_hour  localTime_minute  \\\n",
       "0                    1                  3               0                 0   \n",
       "1                    1                  3               0                 0   \n",
       "2                    1                  3               0                 0   \n",
       "3                    1                  3               0                 0   \n",
       "4                    1                  3               0                 0   \n",
       "...                ...                ...             ...               ...   \n",
       "39216                1                  3               0                 0   \n",
       "39217                1                  3               0                 0   \n",
       "39218                1                  3               0                 0   \n",
       "39219                1                  3               0                 0   \n",
       "39220                1                  3               0                 0   \n",
       "\n",
       "       localTime_seconds  paymentMethod_creditcard  paymentMethod_paypal  \\\n",
       "0                      0                         0                     1   \n",
       "1                      0                         0                     0   \n",
       "2                      0                         1                     0   \n",
       "3                      0                         1                     0   \n",
       "4                      0                         1                     0   \n",
       "...                  ...                       ...                   ...   \n",
       "39216                  0                         1                     0   \n",
       "39217                  0                         1                     0   \n",
       "39218                  0                         1                     0   \n",
       "39219                  0                         1                     0   \n",
       "39220                  0                         0                     1   \n",
       "\n",
       "       paymentMethod_storecredit  Category_electronics  Category_food  \\\n",
       "0                              0                     0              0   \n",
       "1                              1                     1              0   \n",
       "2                              0                     0              1   \n",
       "3                              0                     1              0   \n",
       "4                              0                     0              0   \n",
       "...                          ...                   ...            ...   \n",
       "39216                          0                     0              0   \n",
       "39217                          0                     0              0   \n",
       "39218                          0                     0              0   \n",
       "39219                          0                     0              0   \n",
       "39220                          0                     0              0   \n",
       "\n",
       "       Category_shopping  \n",
       "0                      1  \n",
       "1                      0  \n",
       "2                      0  \n",
       "3                      0  \n",
       "4                      1  \n",
       "...                  ...  \n",
       "39216                  1  \n",
       "39217                  1  \n",
       "39218                  1  \n",
       "39219                  1  \n",
       "39220                  1  \n",
       "\n",
       "[39221 rows x 16 columns]"
      ]
     },
     "execution_count": 41,
     "metadata": {},
     "output_type": "execute_result"
    }
   ],
   "source": [
    "df= pd.get_dummies(df, columns = ['paymentMethod','Category']) \n",
    "df"
   ]
  },
  {
   "cell_type": "code",
   "execution_count": 42,
   "id": "4a54e1a2",
   "metadata": {},
   "outputs": [
    {
     "name": "stdout",
     "output_type": "stream",
     "text": [
      "<class 'pandas.core.frame.DataFrame'>\n",
      "RangeIndex: 39221 entries, 0 to 39220\n",
      "Data columns (total 16 columns):\n",
      " #   Column                     Non-Null Count  Dtype  \n",
      "---  ------                     --------------  -----  \n",
      " 0   accountAgeDays             39221 non-null  int64  \n",
      " 1   numItems                   39221 non-null  int64  \n",
      " 2   paymentMethodAgeDays       39221 non-null  float64\n",
      " 3   isWeekend                  38661 non-null  float64\n",
      " 4   Target                     39221 non-null  int64  \n",
      " 5   localTime_month            39221 non-null  int64  \n",
      " 6   localTime_weekday          39221 non-null  int64  \n",
      " 7   localTime_hour             39221 non-null  int64  \n",
      " 8   localTime_minute           39221 non-null  int64  \n",
      " 9   localTime_seconds          39221 non-null  int64  \n",
      " 10  paymentMethod_creditcard   39221 non-null  uint8  \n",
      " 11  paymentMethod_paypal       39221 non-null  uint8  \n",
      " 12  paymentMethod_storecredit  39221 non-null  uint8  \n",
      " 13  Category_electronics       39221 non-null  uint8  \n",
      " 14  Category_food              39221 non-null  uint8  \n",
      " 15  Category_shopping          39221 non-null  uint8  \n",
      "dtypes: float64(2), int64(8), uint8(6)\n",
      "memory usage: 3.2 MB\n"
     ]
    }
   ],
   "source": [
    "df.info()"
   ]
  },
  {
   "cell_type": "code",
   "execution_count": 43,
   "id": "67786562",
   "metadata": {},
   "outputs": [],
   "source": [
    "df = df.astype({\"paymentMethod_creditcard\": int, \"paymentMethod_paypal\": int, \"paymentMethod_storecredit\": int, \n",
    "                \"Category_electronics\": int, \"Category_food\": int, \"Category_shopping\": int})\n",
    "\n"
   ]
  },
  {
   "cell_type": "code",
   "execution_count": 44,
   "id": "37c9c427",
   "metadata": {},
   "outputs": [],
   "source": [
    "df = df.astype({\"paymentMethodAgeDays\": int})"
   ]
  },
  {
   "cell_type": "code",
   "execution_count": 45,
   "id": "21024002",
   "metadata": {},
   "outputs": [
    {
     "name": "stdout",
     "output_type": "stream",
     "text": [
      "<class 'pandas.core.frame.DataFrame'>\n",
      "RangeIndex: 39221 entries, 0 to 39220\n",
      "Data columns (total 16 columns):\n",
      " #   Column                     Non-Null Count  Dtype  \n",
      "---  ------                     --------------  -----  \n",
      " 0   accountAgeDays             39221 non-null  int64  \n",
      " 1   numItems                   39221 non-null  int64  \n",
      " 2   paymentMethodAgeDays       39221 non-null  int32  \n",
      " 3   isWeekend                  38661 non-null  float64\n",
      " 4   Target                     39221 non-null  int64  \n",
      " 5   localTime_month            39221 non-null  int64  \n",
      " 6   localTime_weekday          39221 non-null  int64  \n",
      " 7   localTime_hour             39221 non-null  int64  \n",
      " 8   localTime_minute           39221 non-null  int64  \n",
      " 9   localTime_seconds          39221 non-null  int64  \n",
      " 10  paymentMethod_creditcard   39221 non-null  int32  \n",
      " 11  paymentMethod_paypal       39221 non-null  int32  \n",
      " 12  paymentMethod_storecredit  39221 non-null  int32  \n",
      " 13  Category_electronics       39221 non-null  int32  \n",
      " 14  Category_food              39221 non-null  int32  \n",
      " 15  Category_shopping          39221 non-null  int32  \n",
      "dtypes: float64(1), int32(7), int64(8)\n",
      "memory usage: 3.7 MB\n"
     ]
    }
   ],
   "source": [
    "df.info()"
   ]
  },
  {
   "cell_type": "code",
   "execution_count": 46,
   "id": "9f370b89",
   "metadata": {},
   "outputs": [
    {
     "data": {
      "text/plain": [
       "accountAgeDays                 0\n",
       "numItems                       0\n",
       "paymentMethodAgeDays           0\n",
       "isWeekend                    560\n",
       "Target                         0\n",
       "localTime_month                0\n",
       "localTime_weekday              0\n",
       "localTime_hour                 0\n",
       "localTime_minute               0\n",
       "localTime_seconds              0\n",
       "paymentMethod_creditcard       0\n",
       "paymentMethod_paypal           0\n",
       "paymentMethod_storecredit      0\n",
       "Category_electronics           0\n",
       "Category_food                  0\n",
       "Category_shopping              0\n",
       "dtype: int64"
      ]
     },
     "execution_count": 46,
     "metadata": {},
     "output_type": "execute_result"
    }
   ],
   "source": [
    "df.isna().sum()"
   ]
  },
  {
   "cell_type": "code",
   "execution_count": 47,
   "id": "02e6330c",
   "metadata": {},
   "outputs": [],
   "source": [
    "df=df[['accountAgeDays','numItems','localTime_month','localTime_weekday','localTime_hour','localTime_minute','localTime_seconds','paymentMethod_creditcard','paymentMethod_paypal','paymentMethod_storecredit','paymentMethodAgeDays','isWeekend','Category_electronics','Category_food','Category_shopping','Target']]"
   ]
  },
  {
   "cell_type": "code",
   "execution_count": 48,
   "id": "9d938679",
   "metadata": {},
   "outputs": [
    {
     "data": {
      "text/html": [
       "<div>\n",
       "<style scoped>\n",
       "    .dataframe tbody tr th:only-of-type {\n",
       "        vertical-align: middle;\n",
       "    }\n",
       "\n",
       "    .dataframe tbody tr th {\n",
       "        vertical-align: top;\n",
       "    }\n",
       "\n",
       "    .dataframe thead th {\n",
       "        text-align: right;\n",
       "    }\n",
       "</style>\n",
       "<table border=\"1\" class=\"dataframe\">\n",
       "  <thead>\n",
       "    <tr style=\"text-align: right;\">\n",
       "      <th></th>\n",
       "      <th>accountAgeDays</th>\n",
       "      <th>numItems</th>\n",
       "      <th>localTime_month</th>\n",
       "      <th>localTime_weekday</th>\n",
       "      <th>localTime_hour</th>\n",
       "      <th>localTime_minute</th>\n",
       "      <th>localTime_seconds</th>\n",
       "      <th>paymentMethod_creditcard</th>\n",
       "      <th>paymentMethod_paypal</th>\n",
       "      <th>paymentMethod_storecredit</th>\n",
       "      <th>paymentMethodAgeDays</th>\n",
       "      <th>isWeekend</th>\n",
       "      <th>Category_electronics</th>\n",
       "      <th>Category_food</th>\n",
       "      <th>Category_shopping</th>\n",
       "      <th>Target</th>\n",
       "    </tr>\n",
       "  </thead>\n",
       "  <tbody>\n",
       "    <tr>\n",
       "      <th>0</th>\n",
       "      <td>29</td>\n",
       "      <td>1</td>\n",
       "      <td>1</td>\n",
       "      <td>3</td>\n",
       "      <td>0</td>\n",
       "      <td>0</td>\n",
       "      <td>0</td>\n",
       "      <td>0</td>\n",
       "      <td>1</td>\n",
       "      <td>0</td>\n",
       "      <td>28</td>\n",
       "      <td>0.0</td>\n",
       "      <td>0</td>\n",
       "      <td>0</td>\n",
       "      <td>1</td>\n",
       "      <td>0</td>\n",
       "    </tr>\n",
       "    <tr>\n",
       "      <th>1</th>\n",
       "      <td>725</td>\n",
       "      <td>1</td>\n",
       "      <td>1</td>\n",
       "      <td>3</td>\n",
       "      <td>0</td>\n",
       "      <td>0</td>\n",
       "      <td>0</td>\n",
       "      <td>0</td>\n",
       "      <td>0</td>\n",
       "      <td>1</td>\n",
       "      <td>0</td>\n",
       "      <td>0.0</td>\n",
       "      <td>1</td>\n",
       "      <td>0</td>\n",
       "      <td>0</td>\n",
       "      <td>0</td>\n",
       "    </tr>\n",
       "    <tr>\n",
       "      <th>2</th>\n",
       "      <td>845</td>\n",
       "      <td>1</td>\n",
       "      <td>1</td>\n",
       "      <td>3</td>\n",
       "      <td>0</td>\n",
       "      <td>0</td>\n",
       "      <td>0</td>\n",
       "      <td>1</td>\n",
       "      <td>0</td>\n",
       "      <td>0</td>\n",
       "      <td>0</td>\n",
       "      <td>1.0</td>\n",
       "      <td>0</td>\n",
       "      <td>1</td>\n",
       "      <td>0</td>\n",
       "      <td>0</td>\n",
       "    </tr>\n",
       "    <tr>\n",
       "      <th>3</th>\n",
       "      <td>503</td>\n",
       "      <td>1</td>\n",
       "      <td>1</td>\n",
       "      <td>3</td>\n",
       "      <td>0</td>\n",
       "      <td>0</td>\n",
       "      <td>0</td>\n",
       "      <td>1</td>\n",
       "      <td>0</td>\n",
       "      <td>0</td>\n",
       "      <td>0</td>\n",
       "      <td>1.0</td>\n",
       "      <td>1</td>\n",
       "      <td>0</td>\n",
       "      <td>0</td>\n",
       "      <td>0</td>\n",
       "    </tr>\n",
       "    <tr>\n",
       "      <th>4</th>\n",
       "      <td>2000</td>\n",
       "      <td>1</td>\n",
       "      <td>1</td>\n",
       "      <td>3</td>\n",
       "      <td>0</td>\n",
       "      <td>0</td>\n",
       "      <td>0</td>\n",
       "      <td>1</td>\n",
       "      <td>0</td>\n",
       "      <td>0</td>\n",
       "      <td>0</td>\n",
       "      <td>0.0</td>\n",
       "      <td>0</td>\n",
       "      <td>0</td>\n",
       "      <td>1</td>\n",
       "      <td>0</td>\n",
       "    </tr>\n",
       "    <tr>\n",
       "      <th>...</th>\n",
       "      <td>...</td>\n",
       "      <td>...</td>\n",
       "      <td>...</td>\n",
       "      <td>...</td>\n",
       "      <td>...</td>\n",
       "      <td>...</td>\n",
       "      <td>...</td>\n",
       "      <td>...</td>\n",
       "      <td>...</td>\n",
       "      <td>...</td>\n",
       "      <td>...</td>\n",
       "      <td>...</td>\n",
       "      <td>...</td>\n",
       "      <td>...</td>\n",
       "      <td>...</td>\n",
       "      <td>...</td>\n",
       "    </tr>\n",
       "    <tr>\n",
       "      <th>39216</th>\n",
       "      <td>986</td>\n",
       "      <td>1</td>\n",
       "      <td>1</td>\n",
       "      <td>3</td>\n",
       "      <td>0</td>\n",
       "      <td>0</td>\n",
       "      <td>0</td>\n",
       "      <td>1</td>\n",
       "      <td>0</td>\n",
       "      <td>0</td>\n",
       "      <td>0</td>\n",
       "      <td>0.0</td>\n",
       "      <td>0</td>\n",
       "      <td>0</td>\n",
       "      <td>1</td>\n",
       "      <td>0</td>\n",
       "    </tr>\n",
       "    <tr>\n",
       "      <th>39217</th>\n",
       "      <td>1647</td>\n",
       "      <td>1</td>\n",
       "      <td>1</td>\n",
       "      <td>3</td>\n",
       "      <td>0</td>\n",
       "      <td>0</td>\n",
       "      <td>0</td>\n",
       "      <td>1</td>\n",
       "      <td>0</td>\n",
       "      <td>0</td>\n",
       "      <td>377</td>\n",
       "      <td>0.0</td>\n",
       "      <td>0</td>\n",
       "      <td>0</td>\n",
       "      <td>1</td>\n",
       "      <td>0</td>\n",
       "    </tr>\n",
       "    <tr>\n",
       "      <th>39218</th>\n",
       "      <td>1591</td>\n",
       "      <td>1</td>\n",
       "      <td>1</td>\n",
       "      <td>3</td>\n",
       "      <td>0</td>\n",
       "      <td>0</td>\n",
       "      <td>0</td>\n",
       "      <td>1</td>\n",
       "      <td>0</td>\n",
       "      <td>0</td>\n",
       "      <td>0</td>\n",
       "      <td>1.0</td>\n",
       "      <td>0</td>\n",
       "      <td>0</td>\n",
       "      <td>1</td>\n",
       "      <td>0</td>\n",
       "    </tr>\n",
       "    <tr>\n",
       "      <th>39219</th>\n",
       "      <td>237</td>\n",
       "      <td>1</td>\n",
       "      <td>1</td>\n",
       "      <td>3</td>\n",
       "      <td>0</td>\n",
       "      <td>0</td>\n",
       "      <td>0</td>\n",
       "      <td>1</td>\n",
       "      <td>0</td>\n",
       "      <td>0</td>\n",
       "      <td>236</td>\n",
       "      <td>1.0</td>\n",
       "      <td>0</td>\n",
       "      <td>0</td>\n",
       "      <td>1</td>\n",
       "      <td>0</td>\n",
       "    </tr>\n",
       "    <tr>\n",
       "      <th>39220</th>\n",
       "      <td>272</td>\n",
       "      <td>1</td>\n",
       "      <td>1</td>\n",
       "      <td>3</td>\n",
       "      <td>0</td>\n",
       "      <td>0</td>\n",
       "      <td>0</td>\n",
       "      <td>0</td>\n",
       "      <td>1</td>\n",
       "      <td>0</td>\n",
       "      <td>0</td>\n",
       "      <td>0.0</td>\n",
       "      <td>0</td>\n",
       "      <td>0</td>\n",
       "      <td>1</td>\n",
       "      <td>0</td>\n",
       "    </tr>\n",
       "  </tbody>\n",
       "</table>\n",
       "<p>39221 rows × 16 columns</p>\n",
       "</div>"
      ],
      "text/plain": [
       "       accountAgeDays  numItems  localTime_month  localTime_weekday  \\\n",
       "0                  29         1                1                  3   \n",
       "1                 725         1                1                  3   \n",
       "2                 845         1                1                  3   \n",
       "3                 503         1                1                  3   \n",
       "4                2000         1                1                  3   \n",
       "...               ...       ...              ...                ...   \n",
       "39216             986         1                1                  3   \n",
       "39217            1647         1                1                  3   \n",
       "39218            1591         1                1                  3   \n",
       "39219             237         1                1                  3   \n",
       "39220             272         1                1                  3   \n",
       "\n",
       "       localTime_hour  localTime_minute  localTime_seconds  \\\n",
       "0                   0                 0                  0   \n",
       "1                   0                 0                  0   \n",
       "2                   0                 0                  0   \n",
       "3                   0                 0                  0   \n",
       "4                   0                 0                  0   \n",
       "...               ...               ...                ...   \n",
       "39216               0                 0                  0   \n",
       "39217               0                 0                  0   \n",
       "39218               0                 0                  0   \n",
       "39219               0                 0                  0   \n",
       "39220               0                 0                  0   \n",
       "\n",
       "       paymentMethod_creditcard  paymentMethod_paypal  \\\n",
       "0                             0                     1   \n",
       "1                             0                     0   \n",
       "2                             1                     0   \n",
       "3                             1                     0   \n",
       "4                             1                     0   \n",
       "...                         ...                   ...   \n",
       "39216                         1                     0   \n",
       "39217                         1                     0   \n",
       "39218                         1                     0   \n",
       "39219                         1                     0   \n",
       "39220                         0                     1   \n",
       "\n",
       "       paymentMethod_storecredit  paymentMethodAgeDays  isWeekend  \\\n",
       "0                              0                    28        0.0   \n",
       "1                              1                     0        0.0   \n",
       "2                              0                     0        1.0   \n",
       "3                              0                     0        1.0   \n",
       "4                              0                     0        0.0   \n",
       "...                          ...                   ...        ...   \n",
       "39216                          0                     0        0.0   \n",
       "39217                          0                   377        0.0   \n",
       "39218                          0                     0        1.0   \n",
       "39219                          0                   236        1.0   \n",
       "39220                          0                     0        0.0   \n",
       "\n",
       "       Category_electronics  Category_food  Category_shopping  Target  \n",
       "0                         0              0                  1       0  \n",
       "1                         1              0                  0       0  \n",
       "2                         0              1                  0       0  \n",
       "3                         1              0                  0       0  \n",
       "4                         0              0                  1       0  \n",
       "...                     ...            ...                ...     ...  \n",
       "39216                     0              0                  1       0  \n",
       "39217                     0              0                  1       0  \n",
       "39218                     0              0                  1       0  \n",
       "39219                     0              0                  1       0  \n",
       "39220                     0              0                  1       0  \n",
       "\n",
       "[39221 rows x 16 columns]"
      ]
     },
     "execution_count": 48,
     "metadata": {},
     "output_type": "execute_result"
    }
   ],
   "source": [
    "df"
   ]
  },
  {
   "cell_type": "code",
   "execution_count": 49,
   "id": "2df8c0b7",
   "metadata": {},
   "outputs": [],
   "source": [
    "from sklearn.impute import SimpleImputer\n",
    "impute_mode = SimpleImputer(strategy = 'most_frequent')\n",
    "impute_mode.fit(df[['isWeekend']])\n",
    "\n",
    "df[['isWeekend']] = impute_mode.transform(df[['isWeekend']])"
   ]
  },
  {
   "cell_type": "code",
   "execution_count": 50,
   "id": "7fadc2d5",
   "metadata": {},
   "outputs": [
    {
     "data": {
      "text/plain": [
       "accountAgeDays               0\n",
       "numItems                     0\n",
       "localTime_month              0\n",
       "localTime_weekday            0\n",
       "localTime_hour               0\n",
       "localTime_minute             0\n",
       "localTime_seconds            0\n",
       "paymentMethod_creditcard     0\n",
       "paymentMethod_paypal         0\n",
       "paymentMethod_storecredit    0\n",
       "paymentMethodAgeDays         0\n",
       "isWeekend                    0\n",
       "Category_electronics         0\n",
       "Category_food                0\n",
       "Category_shopping            0\n",
       "Target                       0\n",
       "dtype: int64"
      ]
     },
     "execution_count": 50,
     "metadata": {},
     "output_type": "execute_result"
    }
   ],
   "source": [
    "df.isna().sum()"
   ]
  },
  {
   "cell_type": "code",
   "execution_count": 51,
   "id": "1a3e1c83",
   "metadata": {},
   "outputs": [
    {
     "name": "stdout",
     "output_type": "stream",
     "text": [
      "<class 'pandas.core.frame.DataFrame'>\n",
      "RangeIndex: 39221 entries, 0 to 39220\n",
      "Data columns (total 16 columns):\n",
      " #   Column                     Non-Null Count  Dtype  \n",
      "---  ------                     --------------  -----  \n",
      " 0   accountAgeDays             39221 non-null  int64  \n",
      " 1   numItems                   39221 non-null  int64  \n",
      " 2   localTime_month            39221 non-null  int64  \n",
      " 3   localTime_weekday          39221 non-null  int64  \n",
      " 4   localTime_hour             39221 non-null  int64  \n",
      " 5   localTime_minute           39221 non-null  int64  \n",
      " 6   localTime_seconds          39221 non-null  int64  \n",
      " 7   paymentMethod_creditcard   39221 non-null  int32  \n",
      " 8   paymentMethod_paypal       39221 non-null  int32  \n",
      " 9   paymentMethod_storecredit  39221 non-null  int32  \n",
      " 10  paymentMethodAgeDays       39221 non-null  int32  \n",
      " 11  isWeekend                  39221 non-null  float64\n",
      " 12  Category_electronics       39221 non-null  int32  \n",
      " 13  Category_food              39221 non-null  int32  \n",
      " 14  Category_shopping          39221 non-null  int32  \n",
      " 15  Target                     39221 non-null  int64  \n",
      "dtypes: float64(1), int32(7), int64(8)\n",
      "memory usage: 3.7 MB\n"
     ]
    }
   ],
   "source": [
    "df.info()"
   ]
  },
  {
   "cell_type": "code",
   "execution_count": 52,
   "id": "2c534708",
   "metadata": {},
   "outputs": [
    {
     "name": "stdout",
     "output_type": "stream",
     "text": [
      "<class 'pandas.core.frame.DataFrame'>\n",
      "RangeIndex: 39221 entries, 0 to 39220\n",
      "Data columns (total 16 columns):\n",
      " #   Column                     Non-Null Count  Dtype  \n",
      "---  ------                     --------------  -----  \n",
      " 0   accountAgeDays             39221 non-null  int64  \n",
      " 1   numItems                   39221 non-null  int64  \n",
      " 2   localTime_month            39221 non-null  int64  \n",
      " 3   localTime_weekday          39221 non-null  int64  \n",
      " 4   localTime_hour             39221 non-null  int64  \n",
      " 5   localTime_minute           39221 non-null  int64  \n",
      " 6   localTime_seconds          39221 non-null  int64  \n",
      " 7   paymentMethod_creditcard   39221 non-null  int32  \n",
      " 8   paymentMethod_paypal       39221 non-null  int32  \n",
      " 9   paymentMethod_storecredit  39221 non-null  int32  \n",
      " 10  paymentMethodAgeDays       39221 non-null  int32  \n",
      " 11  isWeekend                  39221 non-null  float64\n",
      " 12  Category_electronics       39221 non-null  int32  \n",
      " 13  Category_food              39221 non-null  int32  \n",
      " 14  Category_shopping          39221 non-null  int32  \n",
      " 15  Target                     39221 non-null  int64  \n",
      "dtypes: float64(1), int32(7), int64(8)\n",
      "memory usage: 3.7 MB\n"
     ]
    }
   ],
   "source": [
    "df.info()"
   ]
  },
  {
   "cell_type": "markdown",
   "id": "dd37aa0b",
   "metadata": {},
   "source": [
    "- Note: The only features with outliers are **numItems**, **paymentMethodAgeDays**"
   ]
  },
  {
   "cell_type": "markdown",
   "id": "65bc3b7a",
   "metadata": {},
   "source": [
    "# Treating Outliers for numItems column"
   ]
  },
  {
   "cell_type": "code",
   "execution_count": 53,
   "id": "a2b735a8",
   "metadata": {},
   "outputs": [
    {
     "data": {
      "image/png": "[encoded data removed]",
      "text/plain": [
       "<Figure size 640x480 with 1 Axes>"
      ]
     },
     "metadata": {},
     "output_type": "display_data"
    }
   ],
   "source": [
    "plt.boxplot('numItems',data=df)\n",
    "plt.show()"
   ]
  },
  {
   "cell_type": "code",
   "execution_count": 54,
   "id": "214267ec",
   "metadata": {},
   "outputs": [
    {
     "name": "stdout",
     "output_type": "stream",
     "text": [
      "13.335983660810362\n"
     ]
    },
    {
     "data": {
      "text/plain": [
       "count    39221.000000\n",
       "mean         1.084751\n",
       "std          0.566899\n",
       "min          1.000000\n",
       "25%          1.000000\n",
       "50%          1.000000\n",
       "75%          1.000000\n",
       "max         29.000000\n",
       "Name: numItems, dtype: float64"
      ]
     },
     "execution_count": 54,
     "metadata": {},
     "output_type": "execute_result"
    }
   ],
   "source": [
    "print(df['numItems'].skew())\n",
    "df['numItems'].describe()"
   ]
  },
  {
   "cell_type": "markdown",
   "id": "1fa06bb1",
   "metadata": {},
   "source": [
    "- The skewness value of **13.3** shows that the variable **'numItems'** has a ***right-skewed distribution***, indicating the presence of extreme higher values. The maximum 'numItems' value of 29 proves this point."
   ]
  },
  {
   "cell_type": "code",
   "execution_count": 55,
   "id": "1d30798e",
   "metadata": {},
   "outputs": [
    {
     "name": "stdout",
     "output_type": "stream",
     "text": [
      "Q1: 1.0 | Q3: 1.0 | IQR: 0.0 | LL: 1.0 | UL: 1.0\n"
     ]
    }
   ],
   "source": [
    "Q1 = df['numItems'].quantile(0.25)\n",
    "\n",
    "Q3 = df['numItems'].quantile(0.75)\n",
    "\n",
    "IQR = Q3 - Q1\n",
    "\n",
    "LL = Q1 - 1.5*IQR\n",
    "\n",
    "UL = Q3 + 1.5*IQR\n",
    "\n",
    "print(\"Q1: {} | Q3: {} | IQR: {} | LL: {} | UL: {}\".format(Q1,Q3,IQR,LL,UL))"
   ]
  },
  {
   "cell_type": "code",
   "execution_count": 56,
   "id": "15ffeb06",
   "metadata": {},
   "outputs": [
    {
     "name": "stdout",
     "output_type": "stream",
     "text": [
      "UL_OC: 1823 | LL_OC: 0 | T_OC: 1823 | T_OP: 4.648020193263813\n"
     ]
    }
   ],
   "source": [
    "ul_outlier_count = df[df['numItems'] > UL].shape[0]\n",
    "ll_outlier_count = df[df['numItems'] < LL].shape[0]\n",
    "\n",
    "total_outlier_count = ll_outlier_count + ul_outlier_count\n",
    "\n",
    "total_outlier_perc = total_outlier_count * 100 / df.shape[0]\n",
    "\n",
    "print(\"UL_OC: {} | LL_OC: {} | T_OC: {} | T_OP: {}\".format(ul_outlier_count,ll_outlier_count,total_outlier_count,total_outlier_perc))"
   ]
  },
  {
   "cell_type": "markdown",
   "id": "0239db94",
   "metadata": {},
   "source": [
    "- Here there are **1823 outliers** and all of them are over the Upper Limit\n",
    "- To treat this we use **flooring and capping** method"
   ]
  },
  {
   "cell_type": "code",
   "execution_count": 57,
   "id": "4c504ebf",
   "metadata": {},
   "outputs": [
    {
     "name": "stdout",
     "output_type": "stream",
     "text": [
      "1.0\n",
      "1.0\n"
     ]
    }
   ],
   "source": [
    "print(df['numItems'].quantile(0.10))\n",
    "print(df['numItems'].quantile(0.90))"
   ]
  },
  {
   "cell_type": "code",
   "execution_count": 58,
   "id": "4b4d6a28",
   "metadata": {},
   "outputs": [
    {
     "name": "stdout",
     "output_type": "stream",
     "text": [
      "0\n"
     ]
    }
   ],
   "source": [
    "df[\"numItems\"] = np.where(df[\"numItems\"] <1, 1,df['numItems'])\n",
    "df[\"numItems\"] = np.where(df[\"numItems\"] >1, 1,df['numItems'])\n",
    "print(df['numItems'].skew())"
   ]
  },
  {
   "cell_type": "code",
   "execution_count": 59,
   "id": "13bc1e77",
   "metadata": {},
   "outputs": [
    {
     "data": {
      "image/png": "[encoded data removed]",
      "text/plain": [
       "<Figure size 640x480 with 1 Axes>"
      ]
     },
     "metadata": {},
     "output_type": "display_data"
    }
   ],
   "source": [
    "plt.boxplot('numItems',data=df)\n",
    "plt.show()"
   ]
  },
  {
   "cell_type": "markdown",
   "id": "ff30e9e2",
   "metadata": {},
   "source": [
    "# Treatment of Outliers present in paymentMethodAgeDays"
   ]
  },
  {
   "cell_type": "code",
   "execution_count": 60,
   "id": "fe0cdacd",
   "metadata": {},
   "outputs": [
    {
     "data": {
      "image/png": "[encoded data removed]",
      "text/plain": [
       "<Figure size 640x480 with 1 Axes>"
      ]
     },
     "metadata": {},
     "output_type": "display_data"
    }
   ],
   "source": [
    "plt.boxplot('paymentMethodAgeDays',data=df)\n",
    "plt.show()"
   ]
  },
  {
   "cell_type": "code",
   "execution_count": 61,
   "id": "9a90c009",
   "metadata": {},
   "outputs": [
    {
     "name": "stdout",
     "output_type": "stream",
     "text": [
      "3.238796486177889\n"
     ]
    },
    {
     "data": {
      "text/plain": [
       "count    39221.000000\n",
       "mean       122.406976\n",
       "std        283.446981\n",
       "min          0.000000\n",
       "25%          0.000000\n",
       "50%          0.000000\n",
       "75%         87.000000\n",
       "max       1999.000000\n",
       "Name: paymentMethodAgeDays, dtype: float64"
      ]
     },
     "execution_count": 61,
     "metadata": {},
     "output_type": "execute_result"
    }
   ],
   "source": [
    "print(df['paymentMethodAgeDays'].skew())\n",
    "df['paymentMethodAgeDays'].describe()"
   ]
  },
  {
   "cell_type": "markdown",
   "id": "9a7e9668",
   "metadata": {},
   "source": [
    "- The skewness value of **3.2** shows that the variable **'paymentMethodAgeDays'** has a ***right-skewed distribution***, indicating the presence of extreme higher values. The maximum 'paymentMethodAgeDays' value of 1999 proves this point."
   ]
  },
  {
   "cell_type": "code",
   "execution_count": 62,
   "id": "ee7b313e",
   "metadata": {},
   "outputs": [
    {
     "name": "stdout",
     "output_type": "stream",
     "text": [
      "Q1: 0.0 | Q3: 87.0 | IQR: 87.0 | LL: -130.5 | UL: 217.5\n"
     ]
    }
   ],
   "source": [
    "Q1 = df['paymentMethodAgeDays'].quantile(0.25)\n",
    "\n",
    "Q3 = df['paymentMethodAgeDays'].quantile(0.75)\n",
    "\n",
    "IQR = Q3 - Q1\n",
    "\n",
    "LL = Q1 - 1.5*IQR\n",
    "\n",
    "UL = Q3 + 1.5*IQR\n",
    "\n",
    "print(\"Q1: {} | Q3: {} | IQR: {} | LL: {} | UL: {}\".format(Q1,Q3,IQR,LL,UL))"
   ]
  },
  {
   "cell_type": "code",
   "execution_count": 63,
   "id": "db8667e0",
   "metadata": {},
   "outputs": [
    {
     "name": "stdout",
     "output_type": "stream",
     "text": [
      "UL_OC: 6367 | LL_OC: 0 | T_OC: 6367 | T_OP: 16.23365034037888\n"
     ]
    }
   ],
   "source": [
    "ul_outlier_count = df[df['paymentMethodAgeDays'] > UL].shape[0]\n",
    "ll_outlier_count = df[df['paymentMethodAgeDays'] < LL].shape[0]\n",
    "\n",
    "total_outlier_count = ll_outlier_count + ul_outlier_count\n",
    "\n",
    "total_outlier_perc = total_outlier_count * 100 / df.shape[0]\n",
    "\n",
    "print(\"UL_OC: {} | LL_OC: {} | T_OC: {} | T_OP: {}\".format(ul_outlier_count,ll_outlier_count,total_outlier_count,total_outlier_perc))"
   ]
  },
  {
   "cell_type": "code",
   "execution_count": 64,
   "id": "dfdc0571",
   "metadata": {},
   "outputs": [
    {
     "name": "stdout",
     "output_type": "stream",
     "text": [
      "0.0\n",
      "437.0\n"
     ]
    }
   ],
   "source": [
    "print(df['paymentMethodAgeDays'].quantile(0.10))\n",
    "print(df['paymentMethodAgeDays'].quantile(0.90))"
   ]
  },
  {
   "cell_type": "code",
   "execution_count": 65,
   "id": "5fc2fca6",
   "metadata": {},
   "outputs": [
    {
     "name": "stdout",
     "output_type": "stream",
     "text": [
      "1.6907593241035286\n"
     ]
    }
   ],
   "source": [
    "df[\"paymentMethodAgeDays\"] = np.where(df[\"paymentMethodAgeDays\"] <0, 0,df['paymentMethodAgeDays'])\n",
    "df[\"paymentMethodAgeDays\"] = np.where(df[\"paymentMethodAgeDays\"] >437, 437,df['paymentMethodAgeDays'])\n",
    "print(df['paymentMethodAgeDays'].skew())"
   ]
  },
  {
   "cell_type": "code",
   "execution_count": 66,
   "id": "345ca2b5",
   "metadata": {},
   "outputs": [
    {
     "data": {
      "image/png": "[encoded data removed]",
      "text/plain": [
       "<Figure size 640x480 with 1 Axes>"
      ]
     },
     "metadata": {},
     "output_type": "display_data"
    }
   ],
   "source": [
    "plt.boxplot('paymentMethodAgeDays',data=df)\n",
    "plt.show()"
   ]
  },
  {
   "cell_type": "code",
   "execution_count": 67,
   "id": "27004e3e",
   "metadata": {},
   "outputs": [
    {
     "data": {
      "text/html": [
       "<div>\n",
       "<style scoped>\n",
       "    .dataframe tbody tr th:only-of-type {\n",
       "        vertical-align: middle;\n",
       "    }\n",
       "\n",
       "    .dataframe tbody tr th {\n",
       "        vertical-align: top;\n",
       "    }\n",
       "\n",
       "    .dataframe thead th {\n",
       "        text-align: right;\n",
       "    }\n",
       "</style>\n",
       "<table border=\"1\" class=\"dataframe\">\n",
       "  <thead>\n",
       "    <tr style=\"text-align: right;\">\n",
       "      <th></th>\n",
       "      <th>accountAgeDays</th>\n",
       "      <th>numItems</th>\n",
       "      <th>localTime_month</th>\n",
       "      <th>localTime_weekday</th>\n",
       "      <th>localTime_hour</th>\n",
       "      <th>localTime_minute</th>\n",
       "      <th>localTime_seconds</th>\n",
       "      <th>paymentMethod_creditcard</th>\n",
       "      <th>paymentMethod_paypal</th>\n",
       "      <th>paymentMethod_storecredit</th>\n",
       "      <th>paymentMethodAgeDays</th>\n",
       "      <th>isWeekend</th>\n",
       "      <th>Category_electronics</th>\n",
       "      <th>Category_food</th>\n",
       "      <th>Category_shopping</th>\n",
       "      <th>Target</th>\n",
       "    </tr>\n",
       "  </thead>\n",
       "  <tbody>\n",
       "    <tr>\n",
       "      <th>0</th>\n",
       "      <td>29</td>\n",
       "      <td>1</td>\n",
       "      <td>1</td>\n",
       "      <td>3</td>\n",
       "      <td>0</td>\n",
       "      <td>0</td>\n",
       "      <td>0</td>\n",
       "      <td>0</td>\n",
       "      <td>1</td>\n",
       "      <td>0</td>\n",
       "      <td>28</td>\n",
       "      <td>0.0</td>\n",
       "      <td>0</td>\n",
       "      <td>0</td>\n",
       "      <td>1</td>\n",
       "      <td>0</td>\n",
       "    </tr>\n",
       "    <tr>\n",
       "      <th>1</th>\n",
       "      <td>725</td>\n",
       "      <td>1</td>\n",
       "      <td>1</td>\n",
       "      <td>3</td>\n",
       "      <td>0</td>\n",
       "      <td>0</td>\n",
       "      <td>0</td>\n",
       "      <td>0</td>\n",
       "      <td>0</td>\n",
       "      <td>1</td>\n",
       "      <td>0</td>\n",
       "      <td>0.0</td>\n",
       "      <td>1</td>\n",
       "      <td>0</td>\n",
       "      <td>0</td>\n",
       "      <td>0</td>\n",
       "    </tr>\n",
       "    <tr>\n",
       "      <th>2</th>\n",
       "      <td>845</td>\n",
       "      <td>1</td>\n",
       "      <td>1</td>\n",
       "      <td>3</td>\n",
       "      <td>0</td>\n",
       "      <td>0</td>\n",
       "      <td>0</td>\n",
       "      <td>1</td>\n",
       "      <td>0</td>\n",
       "      <td>0</td>\n",
       "      <td>0</td>\n",
       "      <td>1.0</td>\n",
       "      <td>0</td>\n",
       "      <td>1</td>\n",
       "      <td>0</td>\n",
       "      <td>0</td>\n",
       "    </tr>\n",
       "    <tr>\n",
       "      <th>3</th>\n",
       "      <td>503</td>\n",
       "      <td>1</td>\n",
       "      <td>1</td>\n",
       "      <td>3</td>\n",
       "      <td>0</td>\n",
       "      <td>0</td>\n",
       "      <td>0</td>\n",
       "      <td>1</td>\n",
       "      <td>0</td>\n",
       "      <td>0</td>\n",
       "      <td>0</td>\n",
       "      <td>1.0</td>\n",
       "      <td>1</td>\n",
       "      <td>0</td>\n",
       "      <td>0</td>\n",
       "      <td>0</td>\n",
       "    </tr>\n",
       "    <tr>\n",
       "      <th>4</th>\n",
       "      <td>2000</td>\n",
       "      <td>1</td>\n",
       "      <td>1</td>\n",
       "      <td>3</td>\n",
       "      <td>0</td>\n",
       "      <td>0</td>\n",
       "      <td>0</td>\n",
       "      <td>1</td>\n",
       "      <td>0</td>\n",
       "      <td>0</td>\n",
       "      <td>0</td>\n",
       "      <td>0.0</td>\n",
       "      <td>0</td>\n",
       "      <td>0</td>\n",
       "      <td>1</td>\n",
       "      <td>0</td>\n",
       "    </tr>\n",
       "    <tr>\n",
       "      <th>...</th>\n",
       "      <td>...</td>\n",
       "      <td>...</td>\n",
       "      <td>...</td>\n",
       "      <td>...</td>\n",
       "      <td>...</td>\n",
       "      <td>...</td>\n",
       "      <td>...</td>\n",
       "      <td>...</td>\n",
       "      <td>...</td>\n",
       "      <td>...</td>\n",
       "      <td>...</td>\n",
       "      <td>...</td>\n",
       "      <td>...</td>\n",
       "      <td>...</td>\n",
       "      <td>...</td>\n",
       "      <td>...</td>\n",
       "    </tr>\n",
       "    <tr>\n",
       "      <th>39216</th>\n",
       "      <td>986</td>\n",
       "      <td>1</td>\n",
       "      <td>1</td>\n",
       "      <td>3</td>\n",
       "      <td>0</td>\n",
       "      <td>0</td>\n",
       "      <td>0</td>\n",
       "      <td>1</td>\n",
       "      <td>0</td>\n",
       "      <td>0</td>\n",
       "      <td>0</td>\n",
       "      <td>0.0</td>\n",
       "      <td>0</td>\n",
       "      <td>0</td>\n",
       "      <td>1</td>\n",
       "      <td>0</td>\n",
       "    </tr>\n",
       "    <tr>\n",
       "      <th>39217</th>\n",
       "      <td>1647</td>\n",
       "      <td>1</td>\n",
       "      <td>1</td>\n",
       "      <td>3</td>\n",
       "      <td>0</td>\n",
       "      <td>0</td>\n",
       "      <td>0</td>\n",
       "      <td>1</td>\n",
       "      <td>0</td>\n",
       "      <td>0</td>\n",
       "      <td>377</td>\n",
       "      <td>0.0</td>\n",
       "      <td>0</td>\n",
       "      <td>0</td>\n",
       "      <td>1</td>\n",
       "      <td>0</td>\n",
       "    </tr>\n",
       "    <tr>\n",
       "      <th>39218</th>\n",
       "      <td>1591</td>\n",
       "      <td>1</td>\n",
       "      <td>1</td>\n",
       "      <td>3</td>\n",
       "      <td>0</td>\n",
       "      <td>0</td>\n",
       "      <td>0</td>\n",
       "      <td>1</td>\n",
       "      <td>0</td>\n",
       "      <td>0</td>\n",
       "      <td>0</td>\n",
       "      <td>1.0</td>\n",
       "      <td>0</td>\n",
       "      <td>0</td>\n",
       "      <td>1</td>\n",
       "      <td>0</td>\n",
       "    </tr>\n",
       "    <tr>\n",
       "      <th>39219</th>\n",
       "      <td>237</td>\n",
       "      <td>1</td>\n",
       "      <td>1</td>\n",
       "      <td>3</td>\n",
       "      <td>0</td>\n",
       "      <td>0</td>\n",
       "      <td>0</td>\n",
       "      <td>1</td>\n",
       "      <td>0</td>\n",
       "      <td>0</td>\n",
       "      <td>236</td>\n",
       "      <td>1.0</td>\n",
       "      <td>0</td>\n",
       "      <td>0</td>\n",
       "      <td>1</td>\n",
       "      <td>0</td>\n",
       "    </tr>\n",
       "    <tr>\n",
       "      <th>39220</th>\n",
       "      <td>272</td>\n",
       "      <td>1</td>\n",
       "      <td>1</td>\n",
       "      <td>3</td>\n",
       "      <td>0</td>\n",
       "      <td>0</td>\n",
       "      <td>0</td>\n",
       "      <td>0</td>\n",
       "      <td>1</td>\n",
       "      <td>0</td>\n",
       "      <td>0</td>\n",
       "      <td>0.0</td>\n",
       "      <td>0</td>\n",
       "      <td>0</td>\n",
       "      <td>1</td>\n",
       "      <td>0</td>\n",
       "    </tr>\n",
       "  </tbody>\n",
       "</table>\n",
       "<p>39221 rows × 16 columns</p>\n",
       "</div>"
      ],
      "text/plain": [
       "       accountAgeDays  numItems  localTime_month  localTime_weekday  \\\n",
       "0                  29         1                1                  3   \n",
       "1                 725         1                1                  3   \n",
       "2                 845         1                1                  3   \n",
       "3                 503         1                1                  3   \n",
       "4                2000         1                1                  3   \n",
       "...               ...       ...              ...                ...   \n",
       "39216             986         1                1                  3   \n",
       "39217            1647         1                1                  3   \n",
       "39218            1591         1                1                  3   \n",
       "39219             237         1                1                  3   \n",
       "39220             272         1                1                  3   \n",
       "\n",
       "       localTime_hour  localTime_minute  localTime_seconds  \\\n",
       "0                   0                 0                  0   \n",
       "1                   0                 0                  0   \n",
       "2                   0                 0                  0   \n",
       "3                   0                 0                  0   \n",
       "4                   0                 0                  0   \n",
       "...               ...               ...                ...   \n",
       "39216               0                 0                  0   \n",
       "39217               0                 0                  0   \n",
       "39218               0                 0                  0   \n",
       "39219               0                 0                  0   \n",
       "39220               0                 0                  0   \n",
       "\n",
       "       paymentMethod_creditcard  paymentMethod_paypal  \\\n",
       "0                             0                     1   \n",
       "1                             0                     0   \n",
       "2                             1                     0   \n",
       "3                             1                     0   \n",
       "4                             1                     0   \n",
       "...                         ...                   ...   \n",
       "39216                         1                     0   \n",
       "39217                         1                     0   \n",
       "39218                         1                     0   \n",
       "39219                         1                     0   \n",
       "39220                         0                     1   \n",
       "\n",
       "       paymentMethod_storecredit  paymentMethodAgeDays  isWeekend  \\\n",
       "0                              0                    28        0.0   \n",
       "1                              1                     0        0.0   \n",
       "2                              0                     0        1.0   \n",
       "3                              0                     0        1.0   \n",
       "4                              0                     0        0.0   \n",
       "...                          ...                   ...        ...   \n",
       "39216                          0                     0        0.0   \n",
       "39217                          0                   377        0.0   \n",
       "39218                          0                     0        1.0   \n",
       "39219                          0                   236        1.0   \n",
       "39220                          0                     0        0.0   \n",
       "\n",
       "       Category_electronics  Category_food  Category_shopping  Target  \n",
       "0                         0              0                  1       0  \n",
       "1                         1              0                  0       0  \n",
       "2                         0              1                  0       0  \n",
       "3                         1              0                  0       0  \n",
       "4                         0              0                  1       0  \n",
       "...                     ...            ...                ...     ...  \n",
       "39216                     0              0                  1       0  \n",
       "39217                     0              0                  1       0  \n",
       "39218                     0              0                  1       0  \n",
       "39219                     0              0                  1       0  \n",
       "39220                     0              0                  1       0  \n",
       "\n",
       "[39221 rows x 16 columns]"
      ]
     },
     "execution_count": 67,
     "metadata": {},
     "output_type": "execute_result"
    }
   ],
   "source": [
    "df"
   ]
  },
  {
   "cell_type": "markdown",
   "id": "9d5bca89",
   "metadata": {},
   "source": [
    "# Splitting the dataset"
   ]
  },
  {
   "cell_type": "code",
   "execution_count": 68,
   "id": "49533539",
   "metadata": {},
   "outputs": [],
   "source": [
    "x = df.iloc[:,0:15]"
   ]
  },
  {
   "cell_type": "code",
   "execution_count": 69,
   "id": "5dcdfba9",
   "metadata": {},
   "outputs": [
    {
     "data": {
      "text/html": [
       "<div>\n",
       "<style scoped>\n",
       "    .dataframe tbody tr th:only-of-type {\n",
       "        vertical-align: middle;\n",
       "    }\n",
       "\n",
       "    .dataframe tbody tr th {\n",
       "        vertical-align: top;\n",
       "    }\n",
       "\n",
       "    .dataframe thead th {\n",
       "        text-align: right;\n",
       "    }\n",
       "</style>\n",
       "<table border=\"1\" class=\"dataframe\">\n",
       "  <thead>\n",
       "    <tr style=\"text-align: right;\">\n",
       "      <th></th>\n",
       "      <th>accountAgeDays</th>\n",
       "      <th>numItems</th>\n",
       "      <th>localTime_month</th>\n",
       "      <th>localTime_weekday</th>\n",
       "      <th>localTime_hour</th>\n",
       "      <th>localTime_minute</th>\n",
       "      <th>localTime_seconds</th>\n",
       "      <th>paymentMethod_creditcard</th>\n",
       "      <th>paymentMethod_paypal</th>\n",
       "      <th>paymentMethod_storecredit</th>\n",
       "      <th>paymentMethodAgeDays</th>\n",
       "      <th>isWeekend</th>\n",
       "      <th>Category_electronics</th>\n",
       "      <th>Category_food</th>\n",
       "      <th>Category_shopping</th>\n",
       "    </tr>\n",
       "  </thead>\n",
       "  <tbody>\n",
       "    <tr>\n",
       "      <th>0</th>\n",
       "      <td>29</td>\n",
       "      <td>1</td>\n",
       "      <td>1</td>\n",
       "      <td>3</td>\n",
       "      <td>0</td>\n",
       "      <td>0</td>\n",
       "      <td>0</td>\n",
       "      <td>0</td>\n",
       "      <td>1</td>\n",
       "      <td>0</td>\n",
       "      <td>28</td>\n",
       "      <td>0.0</td>\n",
       "      <td>0</td>\n",
       "      <td>0</td>\n",
       "      <td>1</td>\n",
       "    </tr>\n",
       "    <tr>\n",
       "      <th>1</th>\n",
       "      <td>725</td>\n",
       "      <td>1</td>\n",
       "      <td>1</td>\n",
       "      <td>3</td>\n",
       "      <td>0</td>\n",
       "      <td>0</td>\n",
       "      <td>0</td>\n",
       "      <td>0</td>\n",
       "      <td>0</td>\n",
       "      <td>1</td>\n",
       "      <td>0</td>\n",
       "      <td>0.0</td>\n",
       "      <td>1</td>\n",
       "      <td>0</td>\n",
       "      <td>0</td>\n",
       "    </tr>\n",
       "    <tr>\n",
       "      <th>2</th>\n",
       "      <td>845</td>\n",
       "      <td>1</td>\n",
       "      <td>1</td>\n",
       "      <td>3</td>\n",
       "      <td>0</td>\n",
       "      <td>0</td>\n",
       "      <td>0</td>\n",
       "      <td>1</td>\n",
       "      <td>0</td>\n",
       "      <td>0</td>\n",
       "      <td>0</td>\n",
       "      <td>1.0</td>\n",
       "      <td>0</td>\n",
       "      <td>1</td>\n",
       "      <td>0</td>\n",
       "    </tr>\n",
       "    <tr>\n",
       "      <th>3</th>\n",
       "      <td>503</td>\n",
       "      <td>1</td>\n",
       "      <td>1</td>\n",
       "      <td>3</td>\n",
       "      <td>0</td>\n",
       "      <td>0</td>\n",
       "      <td>0</td>\n",
       "      <td>1</td>\n",
       "      <td>0</td>\n",
       "      <td>0</td>\n",
       "      <td>0</td>\n",
       "      <td>1.0</td>\n",
       "      <td>1</td>\n",
       "      <td>0</td>\n",
       "      <td>0</td>\n",
       "    </tr>\n",
       "    <tr>\n",
       "      <th>4</th>\n",
       "      <td>2000</td>\n",
       "      <td>1</td>\n",
       "      <td>1</td>\n",
       "      <td>3</td>\n",
       "      <td>0</td>\n",
       "      <td>0</td>\n",
       "      <td>0</td>\n",
       "      <td>1</td>\n",
       "      <td>0</td>\n",
       "      <td>0</td>\n",
       "      <td>0</td>\n",
       "      <td>0.0</td>\n",
       "      <td>0</td>\n",
       "      <td>0</td>\n",
       "      <td>1</td>\n",
       "    </tr>\n",
       "    <tr>\n",
       "      <th>...</th>\n",
       "      <td>...</td>\n",
       "      <td>...</td>\n",
       "      <td>...</td>\n",
       "      <td>...</td>\n",
       "      <td>...</td>\n",
       "      <td>...</td>\n",
       "      <td>...</td>\n",
       "      <td>...</td>\n",
       "      <td>...</td>\n",
       "      <td>...</td>\n",
       "      <td>...</td>\n",
       "      <td>...</td>\n",
       "      <td>...</td>\n",
       "      <td>...</td>\n",
       "      <td>...</td>\n",
       "    </tr>\n",
       "    <tr>\n",
       "      <th>39216</th>\n",
       "      <td>986</td>\n",
       "      <td>1</td>\n",
       "      <td>1</td>\n",
       "      <td>3</td>\n",
       "      <td>0</td>\n",
       "      <td>0</td>\n",
       "      <td>0</td>\n",
       "      <td>1</td>\n",
       "      <td>0</td>\n",
       "      <td>0</td>\n",
       "      <td>0</td>\n",
       "      <td>0.0</td>\n",
       "      <td>0</td>\n",
       "      <td>0</td>\n",
       "      <td>1</td>\n",
       "    </tr>\n",
       "    <tr>\n",
       "      <th>39217</th>\n",
       "      <td>1647</td>\n",
       "      <td>1</td>\n",
       "      <td>1</td>\n",
       "      <td>3</td>\n",
       "      <td>0</td>\n",
       "      <td>0</td>\n",
       "      <td>0</td>\n",
       "      <td>1</td>\n",
       "      <td>0</td>\n",
       "      <td>0</td>\n",
       "      <td>377</td>\n",
       "      <td>0.0</td>\n",
       "      <td>0</td>\n",
       "      <td>0</td>\n",
       "      <td>1</td>\n",
       "    </tr>\n",
       "    <tr>\n",
       "      <th>39218</th>\n",
       "      <td>1591</td>\n",
       "      <td>1</td>\n",
       "      <td>1</td>\n",
       "      <td>3</td>\n",
       "      <td>0</td>\n",
       "      <td>0</td>\n",
       "      <td>0</td>\n",
       "      <td>1</td>\n",
       "      <td>0</td>\n",
       "      <td>0</td>\n",
       "      <td>0</td>\n",
       "      <td>1.0</td>\n",
       "      <td>0</td>\n",
       "      <td>0</td>\n",
       "      <td>1</td>\n",
       "    </tr>\n",
       "    <tr>\n",
       "      <th>39219</th>\n",
       "      <td>237</td>\n",
       "      <td>1</td>\n",
       "      <td>1</td>\n",
       "      <td>3</td>\n",
       "      <td>0</td>\n",
       "      <td>0</td>\n",
       "      <td>0</td>\n",
       "      <td>1</td>\n",
       "      <td>0</td>\n",
       "      <td>0</td>\n",
       "      <td>236</td>\n",
       "      <td>1.0</td>\n",
       "      <td>0</td>\n",
       "      <td>0</td>\n",
       "      <td>1</td>\n",
       "    </tr>\n",
       "    <tr>\n",
       "      <th>39220</th>\n",
       "      <td>272</td>\n",
       "      <td>1</td>\n",
       "      <td>1</td>\n",
       "      <td>3</td>\n",
       "      <td>0</td>\n",
       "      <td>0</td>\n",
       "      <td>0</td>\n",
       "      <td>0</td>\n",
       "      <td>1</td>\n",
       "      <td>0</td>\n",
       "      <td>0</td>\n",
       "      <td>0.0</td>\n",
       "      <td>0</td>\n",
       "      <td>0</td>\n",
       "      <td>1</td>\n",
       "    </tr>\n",
       "  </tbody>\n",
       "</table>\n",
       "<p>39221 rows × 15 columns</p>\n",
       "</div>"
      ],
      "text/plain": [
       "       accountAgeDays  numItems  localTime_month  localTime_weekday  \\\n",
       "0                  29         1                1                  3   \n",
       "1                 725         1                1                  3   \n",
       "2                 845         1                1                  3   \n",
       "3                 503         1                1                  3   \n",
       "4                2000         1                1                  3   \n",
       "...               ...       ...              ...                ...   \n",
       "39216             986         1                1                  3   \n",
       "39217            1647         1                1                  3   \n",
       "39218            1591         1                1                  3   \n",
       "39219             237         1                1                  3   \n",
       "39220             272         1                1                  3   \n",
       "\n",
       "       localTime_hour  localTime_minute  localTime_seconds  \\\n",
       "0                   0                 0                  0   \n",
       "1                   0                 0                  0   \n",
       "2                   0                 0                  0   \n",
       "3                   0                 0                  0   \n",
       "4                   0                 0                  0   \n",
       "...               ...               ...                ...   \n",
       "39216               0                 0                  0   \n",
       "39217               0                 0                  0   \n",
       "39218               0                 0                  0   \n",
       "39219               0                 0                  0   \n",
       "39220               0                 0                  0   \n",
       "\n",
       "       paymentMethod_creditcard  paymentMethod_paypal  \\\n",
       "0                             0                     1   \n",
       "1                             0                     0   \n",
       "2                             1                     0   \n",
       "3                             1                     0   \n",
       "4                             1                     0   \n",
       "...                         ...                   ...   \n",
       "39216                         1                     0   \n",
       "39217                         1                     0   \n",
       "39218                         1                     0   \n",
       "39219                         1                     0   \n",
       "39220                         0                     1   \n",
       "\n",
       "       paymentMethod_storecredit  paymentMethodAgeDays  isWeekend  \\\n",
       "0                              0                    28        0.0   \n",
       "1                              1                     0        0.0   \n",
       "2                              0                     0        1.0   \n",
       "3                              0                     0        1.0   \n",
       "4                              0                     0        0.0   \n",
       "...                          ...                   ...        ...   \n",
       "39216                          0                     0        0.0   \n",
       "39217                          0                   377        0.0   \n",
       "39218                          0                     0        1.0   \n",
       "39219                          0                   236        1.0   \n",
       "39220                          0                     0        0.0   \n",
       "\n",
       "       Category_electronics  Category_food  Category_shopping  \n",
       "0                         0              0                  1  \n",
       "1                         1              0                  0  \n",
       "2                         0              1                  0  \n",
       "3                         1              0                  0  \n",
       "4                         0              0                  1  \n",
       "...                     ...            ...                ...  \n",
       "39216                     0              0                  1  \n",
       "39217                     0              0                  1  \n",
       "39218                     0              0                  1  \n",
       "39219                     0              0                  1  \n",
       "39220                     0              0                  1  \n",
       "\n",
       "[39221 rows x 15 columns]"
      ]
     },
     "execution_count": 69,
     "metadata": {},
     "output_type": "execute_result"
    }
   ],
   "source": [
    "x"
   ]
  },
  {
   "cell_type": "code",
   "execution_count": 70,
   "id": "1be6e623",
   "metadata": {},
   "outputs": [
    {
     "data": {
      "text/plain": [
       "0        0\n",
       "1        0\n",
       "2        0\n",
       "3        0\n",
       "4        0\n",
       "        ..\n",
       "39216    0\n",
       "39217    0\n",
       "39218    0\n",
       "39219    0\n",
       "39220    0\n",
       "Name: Target, Length: 39221, dtype: int64"
      ]
     },
     "execution_count": 70,
     "metadata": {},
     "output_type": "execute_result"
    }
   ],
   "source": [
    "y = df.iloc[:,15]\n",
    "y"
   ]
  },
  {
   "cell_type": "markdown",
   "id": "02d551f9",
   "metadata": {},
   "source": [
    "**NOTE:**\n",
    "- We choose to keep the outliers in the ***paymentMethodAgeDays*** as it is because when we split the entire dataset into two datasets by relying upon outlier percentage present in that column, one of the datasets didn't have any 1, it only had 0 based upon which it is not possible to apply classification algorithm. Hence we decided to include the outliers present in the data"
   ]
  },
  {
   "cell_type": "markdown",
   "id": "595c1344",
   "metadata": {},
   "source": [
    "# Train - Test split of models"
   ]
  },
  {
   "cell_type": "code",
   "execution_count": 71,
   "id": "20b94c9b",
   "metadata": {},
   "outputs": [],
   "source": [
    "from sklearn.model_selection import train_test_split\n",
    "x_train,x_test,y_train,y_test = train_test_split(x,y,train_size=0.75,random_state=7)"
   ]
  },
  {
   "cell_type": "code",
   "execution_count": 72,
   "id": "e5d79bcc",
   "metadata": {},
   "outputs": [
    {
     "data": {
      "image/png": "[encoded data removed]",
      "text/plain": [
       "<Figure size 1500x1500 with 2 Axes>"
      ]
     },
     "metadata": {},
     "output_type": "display_data"
    }
   ],
   "source": [
    "plt.figure(figsize=(15,15))\n",
    "sns.heatmap(x_train.corr(),annot=True,fmt='.2g')\n",
    "plt.show()"
   ]
  },
  {
   "cell_type": "code",
   "execution_count": 73,
   "id": "1a37a406",
   "metadata": {},
   "outputs": [],
   "source": [
    "x_train = x_train.drop(['numItems','localTime_month','localTime_weekday','localTime_hour','localTime_minute','localTime_seconds'],axis=1)"
   ]
  },
  {
   "cell_type": "code",
   "execution_count": 74,
   "id": "08224fe9",
   "metadata": {},
   "outputs": [
    {
     "data": {
      "text/html": [
       "<div>\n",
       "<style scoped>\n",
       "    .dataframe tbody tr th:only-of-type {\n",
       "        vertical-align: middle;\n",
       "    }\n",
       "\n",
       "    .dataframe tbody tr th {\n",
       "        vertical-align: top;\n",
       "    }\n",
       "\n",
       "    .dataframe thead th {\n",
       "        text-align: right;\n",
       "    }\n",
       "</style>\n",
       "<table border=\"1\" class=\"dataframe\">\n",
       "  <thead>\n",
       "    <tr style=\"text-align: right;\">\n",
       "      <th></th>\n",
       "      <th>accountAgeDays</th>\n",
       "      <th>paymentMethod_creditcard</th>\n",
       "      <th>paymentMethod_paypal</th>\n",
       "      <th>paymentMethod_storecredit</th>\n",
       "      <th>paymentMethodAgeDays</th>\n",
       "      <th>isWeekend</th>\n",
       "      <th>Category_electronics</th>\n",
       "      <th>Category_food</th>\n",
       "      <th>Category_shopping</th>\n",
       "    </tr>\n",
       "  </thead>\n",
       "  <tbody>\n",
       "    <tr>\n",
       "      <th>32218</th>\n",
       "      <td>169</td>\n",
       "      <td>1</td>\n",
       "      <td>0</td>\n",
       "      <td>0</td>\n",
       "      <td>168</td>\n",
       "      <td>0.0</td>\n",
       "      <td>0</td>\n",
       "      <td>0</td>\n",
       "      <td>1</td>\n",
       "    </tr>\n",
       "    <tr>\n",
       "      <th>1458</th>\n",
       "      <td>17</td>\n",
       "      <td>1</td>\n",
       "      <td>0</td>\n",
       "      <td>0</td>\n",
       "      <td>0</td>\n",
       "      <td>0.0</td>\n",
       "      <td>1</td>\n",
       "      <td>0</td>\n",
       "      <td>0</td>\n",
       "    </tr>\n",
       "    <tr>\n",
       "      <th>35468</th>\n",
       "      <td>3</td>\n",
       "      <td>1</td>\n",
       "      <td>0</td>\n",
       "      <td>0</td>\n",
       "      <td>2</td>\n",
       "      <td>0.0</td>\n",
       "      <td>0</td>\n",
       "      <td>1</td>\n",
       "      <td>0</td>\n",
       "    </tr>\n",
       "    <tr>\n",
       "      <th>21989</th>\n",
       "      <td>2000</td>\n",
       "      <td>1</td>\n",
       "      <td>0</td>\n",
       "      <td>0</td>\n",
       "      <td>437</td>\n",
       "      <td>0.0</td>\n",
       "      <td>0</td>\n",
       "      <td>1</td>\n",
       "      <td>0</td>\n",
       "    </tr>\n",
       "    <tr>\n",
       "      <th>9839</th>\n",
       "      <td>2000</td>\n",
       "      <td>0</td>\n",
       "      <td>1</td>\n",
       "      <td>0</td>\n",
       "      <td>309</td>\n",
       "      <td>0.0</td>\n",
       "      <td>0</td>\n",
       "      <td>1</td>\n",
       "      <td>0</td>\n",
       "    </tr>\n",
       "  </tbody>\n",
       "</table>\n",
       "</div>"
      ],
      "text/plain": [
       "       accountAgeDays  paymentMethod_creditcard  paymentMethod_paypal  \\\n",
       "32218             169                         1                     0   \n",
       "1458               17                         1                     0   \n",
       "35468               3                         1                     0   \n",
       "21989            2000                         1                     0   \n",
       "9839             2000                         0                     1   \n",
       "\n",
       "       paymentMethod_storecredit  paymentMethodAgeDays  isWeekend  \\\n",
       "32218                          0                   168        0.0   \n",
       "1458                           0                     0        0.0   \n",
       "35468                          0                     2        0.0   \n",
       "21989                          0                   437        0.0   \n",
       "9839                           0                   309        0.0   \n",
       "\n",
       "       Category_electronics  Category_food  Category_shopping  \n",
       "32218                     0              0                  1  \n",
       "1458                      1              0                  0  \n",
       "35468                     0              1                  0  \n",
       "21989                     0              1                  0  \n",
       "9839                      0              1                  0  "
      ]
     },
     "execution_count": 74,
     "metadata": {},
     "output_type": "execute_result"
    }
   ],
   "source": [
    "x_train.head()"
   ]
  },
  {
   "cell_type": "code",
   "execution_count": 75,
   "id": "3a4598aa",
   "metadata": {},
   "outputs": [],
   "source": [
    "x_test = x_test.drop(['numItems','localTime_month','localTime_weekday','localTime_hour','localTime_minute','localTime_seconds'],axis=1)"
   ]
  },
  {
   "cell_type": "code",
   "execution_count": 76,
   "id": "881ac320",
   "metadata": {},
   "outputs": [
    {
     "data": {
      "text/html": [
       "<div>\n",
       "<style scoped>\n",
       "    .dataframe tbody tr th:only-of-type {\n",
       "        vertical-align: middle;\n",
       "    }\n",
       "\n",
       "    .dataframe tbody tr th {\n",
       "        vertical-align: top;\n",
       "    }\n",
       "\n",
       "    .dataframe thead th {\n",
       "        text-align: right;\n",
       "    }\n",
       "</style>\n",
       "<table border=\"1\" class=\"dataframe\">\n",
       "  <thead>\n",
       "    <tr style=\"text-align: right;\">\n",
       "      <th></th>\n",
       "      <th>accountAgeDays</th>\n",
       "      <th>paymentMethod_creditcard</th>\n",
       "      <th>paymentMethod_paypal</th>\n",
       "      <th>paymentMethod_storecredit</th>\n",
       "      <th>paymentMethodAgeDays</th>\n",
       "      <th>isWeekend</th>\n",
       "      <th>Category_electronics</th>\n",
       "      <th>Category_food</th>\n",
       "      <th>Category_shopping</th>\n",
       "    </tr>\n",
       "  </thead>\n",
       "  <tbody>\n",
       "    <tr>\n",
       "      <th>36088</th>\n",
       "      <td>110</td>\n",
       "      <td>1</td>\n",
       "      <td>0</td>\n",
       "      <td>0</td>\n",
       "      <td>109</td>\n",
       "      <td>0.0</td>\n",
       "      <td>1</td>\n",
       "      <td>0</td>\n",
       "      <td>0</td>\n",
       "    </tr>\n",
       "    <tr>\n",
       "      <th>1557</th>\n",
       "      <td>215</td>\n",
       "      <td>1</td>\n",
       "      <td>0</td>\n",
       "      <td>0</td>\n",
       "      <td>18</td>\n",
       "      <td>0.0</td>\n",
       "      <td>1</td>\n",
       "      <td>0</td>\n",
       "      <td>0</td>\n",
       "    </tr>\n",
       "    <tr>\n",
       "      <th>5467</th>\n",
       "      <td>38</td>\n",
       "      <td>0</td>\n",
       "      <td>1</td>\n",
       "      <td>0</td>\n",
       "      <td>0</td>\n",
       "      <td>1.0</td>\n",
       "      <td>0</td>\n",
       "      <td>0</td>\n",
       "      <td>1</td>\n",
       "    </tr>\n",
       "    <tr>\n",
       "      <th>27647</th>\n",
       "      <td>53</td>\n",
       "      <td>0</td>\n",
       "      <td>1</td>\n",
       "      <td>0</td>\n",
       "      <td>0</td>\n",
       "      <td>1.0</td>\n",
       "      <td>0</td>\n",
       "      <td>0</td>\n",
       "      <td>1</td>\n",
       "    </tr>\n",
       "    <tr>\n",
       "      <th>9070</th>\n",
       "      <td>2</td>\n",
       "      <td>1</td>\n",
       "      <td>0</td>\n",
       "      <td>0</td>\n",
       "      <td>0</td>\n",
       "      <td>1.0</td>\n",
       "      <td>0</td>\n",
       "      <td>1</td>\n",
       "      <td>0</td>\n",
       "    </tr>\n",
       "  </tbody>\n",
       "</table>\n",
       "</div>"
      ],
      "text/plain": [
       "       accountAgeDays  paymentMethod_creditcard  paymentMethod_paypal  \\\n",
       "36088             110                         1                     0   \n",
       "1557              215                         1                     0   \n",
       "5467               38                         0                     1   \n",
       "27647              53                         0                     1   \n",
       "9070                2                         1                     0   \n",
       "\n",
       "       paymentMethod_storecredit  paymentMethodAgeDays  isWeekend  \\\n",
       "36088                          0                   109        0.0   \n",
       "1557                           0                    18        0.0   \n",
       "5467                           0                     0        1.0   \n",
       "27647                          0                     0        1.0   \n",
       "9070                           0                     0        1.0   \n",
       "\n",
       "       Category_electronics  Category_food  Category_shopping  \n",
       "36088                     1              0                  0  \n",
       "1557                      1              0                  0  \n",
       "5467                      0              0                  1  \n",
       "27647                     0              0                  1  \n",
       "9070                      0              1                  0  "
      ]
     },
     "execution_count": 76,
     "metadata": {},
     "output_type": "execute_result"
    }
   ],
   "source": [
    "x_test.head()"
   ]
  },
  {
   "cell_type": "code",
   "execution_count": 77,
   "id": "880614de",
   "metadata": {},
   "outputs": [
    {
     "data": {
      "image/png": "[encoded data removed]",
      "text/plain": [
       "<Figure size 1000x1000 with 2 Axes>"
      ]
     },
     "metadata": {},
     "output_type": "display_data"
    }
   ],
   "source": [
    "plt.figure(figsize=(10,10))\n",
    "sns.heatmap(x_train.corr(),annot=True,fmt='.2g')\n",
    "plt.show()"
   ]
  },
  {
   "cell_type": "code",
   "execution_count": 78,
   "id": "9b85a64b",
   "metadata": {},
   "outputs": [
    {
     "data": {
      "image/png": "[encoded data removed]",
      "text/plain": [
       "<Figure size 1000x1000 with 2 Axes>"
      ]
     },
     "metadata": {},
     "output_type": "display_data"
    }
   ],
   "source": [
    "plt.figure(figsize=(10,10))\n",
    "sns.heatmap(x_test.corr(),annot=True,fmt='.2g')\n",
    "plt.show()"
   ]
  },
  {
   "cell_type": "markdown",
   "id": "d017970c",
   "metadata": {},
   "source": [
    "# Model Building and Model Evaluation"
   ]
  },
  {
   "cell_type": "markdown",
   "id": "bd625cee",
   "metadata": {},
   "source": [
    "## Logistic Regression"
   ]
  },
  {
   "cell_type": "code",
   "execution_count": 79,
   "id": "1857a935",
   "metadata": {},
   "outputs": [],
   "source": [
    "from sklearn.preprocessing import StandardScaler\n",
    "ss=StandardScaler()\n",
    "x_train=ss.fit_transform(x_train)\n",
    "x_test=ss.transform(x_test)"
   ]
  },
  {
   "cell_type": "code",
   "execution_count": 80,
   "id": "d9b7f64b",
   "metadata": {},
   "outputs": [],
   "source": [
    "from sklearn.linear_model import LogisticRegression\n",
    "from sklearn.metrics import classification_report,accuracy_score,confusion_matrix"
   ]
  },
  {
   "cell_type": "code",
   "execution_count": 81,
   "id": "20948502",
   "metadata": {},
   "outputs": [],
   "source": [
    "classifier=LogisticRegression()\n",
    "lr=classifier.fit(x_train,y_train)\n",
    "y_pred=classifier.predict(x_test)\n",
    "y_pred_train=classifier.predict(x_train)"
   ]
  },
  {
   "cell_type": "code",
   "execution_count": 82,
   "id": "ea02c0a7",
   "metadata": {},
   "outputs": [
    {
     "name": "stdout",
     "output_type": "stream",
     "text": [
      "              precision    recall  f1-score   support\n",
      "\n",
      "           0       0.99      1.00      0.99      9669\n",
      "           1       0.00      0.00      0.00       137\n",
      "\n",
      "    accuracy                           0.99      9806\n",
      "   macro avg       0.49      0.50      0.50      9806\n",
      "weighted avg       0.97      0.99      0.98      9806\n",
      "\n",
      "              precision    recall  f1-score   support\n",
      "\n",
      "           0       0.99      1.00      0.99     28992\n",
      "           1       0.00      0.00      0.00       423\n",
      "\n",
      "    accuracy                           0.99     29415\n",
      "   macro avg       0.49      0.50      0.50     29415\n",
      "weighted avg       0.97      0.99      0.98     29415\n",
      "\n"
     ]
    }
   ],
   "source": [
    "print(classification_report(y_test,y_pred))\n",
    "print(classification_report(y_train,y_pred_train))"
   ]
  },
  {
   "cell_type": "code",
   "execution_count": 83,
   "id": "cf343b87",
   "metadata": {},
   "outputs": [
    {
     "data": {
      "text/plain": [
       "array([[9669,    0],\n",
       "       [ 137,    0]], dtype=int64)"
      ]
     },
     "execution_count": 83,
     "metadata": {},
     "output_type": "execute_result"
    }
   ],
   "source": [
    "from sklearn import metrics\n",
    "from sklearn.metrics import confusion_matrix\n",
    "conf_matrix = metrics.confusion_matrix(y_test,y_pred)\n",
    "conf_matrix"
   ]
  },
  {
   "cell_type": "code",
   "execution_count": 84,
   "id": "1942ba53",
   "metadata": {},
   "outputs": [
    {
     "data": {
      "text/plain": [
       "<Axes: >"
      ]
     },
     "execution_count": 84,
     "metadata": {},
     "output_type": "execute_result"
    },
    {
     "data": {
      "image/png": "[encoded data removed]",
      "text/plain": [
       "<Figure size 500x500 with 2 Axes>"
      ]
     },
     "metadata": {},
     "output_type": "display_data"
    }
   ],
   "source": [
    "fig, ax = plt.subplots(figsize=(5,5))\n",
    "sns.heatmap(conf_matrix, annot = True, ax=ax)"
   ]
  },
  {
   "cell_type": "code",
   "execution_count": 85,
   "id": "430ee2da",
   "metadata": {},
   "outputs": [
    {
     "data": {
      "image/png": "[encoded data removed]",
      "text/plain": [
       "<Figure size 1500x1200 with 1 Axes>"
      ]
     },
     "metadata": {},
     "output_type": "display_data"
    }
   ],
   "source": [
    "from sklearn import metrics\n",
    "y_pred_proba = lr.predict_proba(x_test)[::,1]\n",
    "fpr, tpr, _ = metrics.roc_curve(y_test,  y_pred_proba)\n",
    "auc = metrics.roc_auc_score(y_test, y_pred_proba)\n",
    "plt.figure(figsize=(15,12))\n",
    "plt.plot(fpr,tpr,label=\"auc=\"+str(auc))\n",
    "plt.legend(loc=4)\n",
    "plt.title(\"Receiver Operating Characteristic Curve (ROC)\")\n",
    "plt.xlabel(\"FPR ---->\")\n",
    "plt.ylabel(\"TPR ---->\")\n",
    "plt.show()"
   ]
  },
  {
   "cell_type": "markdown",
   "id": "392082bb",
   "metadata": {},
   "source": [
    "**Takeaways:**\n",
    "- Have used Logistic Regression modelling as it is a Classification problem\n",
    "- The area under the ROC curve(AUC) is seen to be 0.98, which means the model is going to give good results for the similar kind of data that it digests.\n",
    "- It also means that the fraudulent transactions can be predicted efficiently and can be avoided."
   ]
  },
  {
   "cell_type": "markdown",
   "id": "7ef4a8ee",
   "metadata": {},
   "source": [
    "## Decison Tree Classifier"
   ]
  },
  {
   "cell_type": "code",
   "execution_count": 86,
   "id": "fdbf2d6f",
   "metadata": {},
   "outputs": [
    {
     "name": "stdout",
     "output_type": "stream",
     "text": [
      "              precision    recall  f1-score   support\n",
      "\n",
      "           0       1.00      1.00      1.00      9669\n",
      "           1       1.00      1.00      1.00       137\n",
      "\n",
      "    accuracy                           1.00      9806\n",
      "   macro avg       1.00      1.00      1.00      9806\n",
      "weighted avg       1.00      1.00      1.00      9806\n",
      "\n",
      "              precision    recall  f1-score   support\n",
      "\n",
      "           0       1.00      1.00      1.00     28992\n",
      "           1       1.00      1.00      1.00       423\n",
      "\n",
      "    accuracy                           1.00     29415\n",
      "   macro avg       1.00      1.00      1.00     29415\n",
      "weighted avg       1.00      1.00      1.00     29415\n",
      "\n"
     ]
    }
   ],
   "source": [
    "from sklearn.tree import DecisionTreeClassifier\n",
    "classifier2=DecisionTreeClassifier(random_state=7, max_depth=5,\n",
    "                                   criterion='gini',max_leaf_nodes=7)\n",
    "\n",
    "dt=classifier2.fit(x_train,y_train)\n",
    "y_pred=classifier2.predict(x_test)\n",
    "y_pred_train=classifier2.predict(x_train)\n",
    "\n",
    "print(classification_report(y_test,y_pred))\n",
    "print(classification_report(y_train,y_pred_train))"
   ]
  },
  {
   "cell_type": "markdown",
   "id": "ff1b7d61",
   "metadata": {},
   "source": [
    "## Random Forest Classifier"
   ]
  },
  {
   "cell_type": "code",
   "execution_count": 87,
   "id": "7a56fadb",
   "metadata": {},
   "outputs": [
    {
     "name": "stdout",
     "output_type": "stream",
     "text": [
      "              precision    recall  f1-score   support\n",
      "\n",
      "           0       1.00      1.00      1.00      9669\n",
      "           1       1.00      1.00      1.00       137\n",
      "\n",
      "    accuracy                           1.00      9806\n",
      "   macro avg       1.00      1.00      1.00      9806\n",
      "weighted avg       1.00      1.00      1.00      9806\n",
      "\n",
      "              precision    recall  f1-score   support\n",
      "\n",
      "           0       1.00      1.00      1.00     28992\n",
      "           1       1.00      1.00      1.00       423\n",
      "\n",
      "    accuracy                           1.00     29415\n",
      "   macro avg       1.00      1.00      1.00     29415\n",
      "weighted avg       1.00      1.00      1.00     29415\n",
      "\n"
     ]
    }
   ],
   "source": [
    "from sklearn.ensemble import RandomForestClassifier\n",
    "classifier3=RandomForestClassifier(random_state=7, max_depth=11,\n",
    "                                   criterion='gini',max_leaf_nodes=15,\n",
    "                                  min_samples_split=40,n_estimators=30)\n",
    "\n",
    "rf=classifier3.fit(x_train,y_train)\n",
    "y_pred=classifier3.predict(x_test)\n",
    "y_pred_train=classifier3.predict(x_train)\n",
    "\n",
    "print(classification_report(y_test,y_pred))\n",
    "print(classification_report(y_train,y_pred_train))"
   ]
  },
  {
   "cell_type": "markdown",
   "id": "96bbcc35",
   "metadata": {},
   "source": [
    "## Gradient Boosting Classifier"
   ]
  },
  {
   "cell_type": "code",
   "execution_count": 88,
   "id": "9cce8c4c",
   "metadata": {},
   "outputs": [
    {
     "name": "stdout",
     "output_type": "stream",
     "text": [
      "              precision    recall  f1-score   support\n",
      "\n",
      "           0       1.00      1.00      1.00      9669\n",
      "           1       1.00      1.00      1.00       137\n",
      "\n",
      "    accuracy                           1.00      9806\n",
      "   macro avg       1.00      1.00      1.00      9806\n",
      "weighted avg       1.00      1.00      1.00      9806\n",
      "\n",
      "              precision    recall  f1-score   support\n",
      "\n",
      "           0       1.00      1.00      1.00     28992\n",
      "           1       1.00      1.00      1.00       423\n",
      "\n",
      "    accuracy                           1.00     29415\n",
      "   macro avg       1.00      1.00      1.00     29415\n",
      "weighted avg       1.00      1.00      1.00     29415\n",
      "\n"
     ]
    }
   ],
   "source": [
    "from sklearn.ensemble import GradientBoostingClassifier\n",
    "gbc=GradientBoostingClassifier(random_state=7,n_estimators=50,\n",
    "                              max_depth=11)\n",
    "gbc1=gbc.fit(x_train,y_train)\n",
    "y_pred=gbc.predict(x_test)\n",
    "y_pred_train=gbc.predict(x_train)\n",
    "\n",
    "print(classification_report(y_test,y_pred))\n",
    "print(classification_report(y_train,y_pred_train))"
   ]
  },
  {
   "cell_type": "markdown",
   "id": "9f36a3e8",
   "metadata": {},
   "source": [
    "## Support Vector Classifier"
   ]
  },
  {
   "cell_type": "code",
   "execution_count": 89,
   "id": "4f3b0d8d",
   "metadata": {},
   "outputs": [
    {
     "name": "stdout",
     "output_type": "stream",
     "text": [
      "              precision    recall  f1-score   support\n",
      "\n",
      "           0       0.99      1.00      0.99      9669\n",
      "           1       0.00      0.00      0.00       137\n",
      "\n",
      "    accuracy                           0.99      9806\n",
      "   macro avg       0.49      0.50      0.50      9806\n",
      "weighted avg       0.97      0.99      0.98      9806\n",
      "\n",
      "              precision    recall  f1-score   support\n",
      "\n",
      "           0       0.99      1.00      0.99     28992\n",
      "           1       0.00      0.00      0.00       423\n",
      "\n",
      "    accuracy                           0.99     29415\n",
      "   macro avg       0.49      0.50      0.50     29415\n",
      "weighted avg       0.97      0.99      0.98     29415\n",
      "\n"
     ]
    }
   ],
   "source": [
    "from sklearn.svm import SVC\n",
    "svc=SVC(random_state=7)\n",
    "svm=svc.fit(x_train,y_train)\n",
    "y_pred=svc.predict(x_test)\n",
    "y_pred_train=svc.predict(x_train)\n",
    "\n",
    "print(classification_report(y_test,y_pred))\n",
    "print(classification_report(y_train,y_pred_train))"
   ]
  },
  {
   "cell_type": "markdown",
   "id": "8da68a40",
   "metadata": {},
   "source": [
    "# Conclusion"
   ]
  },
  {
   "cell_type": "markdown",
   "id": "ec3b3221",
   "metadata": {},
   "source": [
    "- The model has been well classified and can perform efficiently\n",
    "- The model has performed significantly well in all the used machine learning algorithms\n",
    "- Hence the banking system will be working fine and the fraudulent transactions can be detected and avoided"
   ]
  }
 ],
 "metadata": {
  "kernelspec": {
   "display_name": "Python 3 (ipykernel)",
   "language": "python",
   "name": "python3"
  },
  "language_info": {
   "codemirror_mode": {
    "name": "ipython",
    "version": 3
   },
   "file_extension": ".py",
   "mimetype": "text/x-python",
   "name": "python",
   "nbconvert_exporter": "python",
   "pygments_lexer": "ipython3",
   "version": "3.11.4"
  }
 },
 "nbformat": 4,
 "nbformat_minor": 5
}
